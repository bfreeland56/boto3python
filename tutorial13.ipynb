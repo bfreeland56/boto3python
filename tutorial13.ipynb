{
 "cells": [
  {
   "cell_type": "markdown",
   "metadata": {},
   "source": [
    "# tutorial 13"
   ]
  },
  {
   "cell_type": "markdown",
   "metadata": {},
   "source": [
    "# describe security groups using boto3"
   ]
  },
  {
   "cell_type": "code",
   "execution_count": 19,
   "metadata": {},
   "outputs": [],
   "source": [
    "import boto3\n"
   ]
  },
  {
   "cell_type": "code",
   "execution_count": 20,
   "metadata": {},
   "outputs": [],
   "source": [
    "client=boto3.client(\"ec2\")"
   ]
  },
  {
   "cell_type": "code",
   "execution_count": 8,
   "metadata": {},
   "outputs": [],
   "source": [
    "x=client.describe_security_groups()"
   ]
  },
  {
   "cell_type": "code",
   "execution_count": 11,
   "metadata": {},
   "outputs": [],
   "source": [
    "no_of_security_groups=len(x[\"SecurityGroups\"])"
   ]
  },
  {
   "cell_type": "code",
   "execution_count": 12,
   "metadata": {},
   "outputs": [
    {
     "data": {
      "text/plain": [
       "4"
      ]
     },
     "execution_count": 12,
     "metadata": {},
     "output_type": "execute_result"
    }
   ],
   "source": [
    "no_of_security_groups"
   ]
  },
  {
   "cell_type": "code",
   "execution_count": 14,
   "metadata": {},
   "outputs": [
    {
     "name": "stdout",
     "output_type": "stream",
     "text": [
      "sg-0427426178c361b9e\n",
      "sg-0ae1a383a4dcaddca\n",
      "sg-0df724f9bdd4cea2a\n",
      "sg-9ca9a9e1\n"
     ]
    }
   ],
   "source": [
    "for group in x[\"SecurityGroups\"]:\n",
    "    print(group[\"GroupId\"])"
   ]
  },
  {
   "cell_type": "markdown",
   "metadata": {},
   "source": [
    "# How to describe security groups using security group id"
   ]
  },
  {
   "cell_type": "code",
   "execution_count": 21,
   "metadata": {},
   "outputs": [],
   "source": [
    "x=client.describe_security_groups(GroupIds=[\n",
    "          'sg-0427426178c361b9e','sg-0df724f9bdd4cea2a'\n",
    "      ])"
   ]
  },
  {
   "cell_type": "code",
   "execution_count": 22,
   "metadata": {},
   "outputs": [
    {
     "data": {
      "text/plain": [
       "{'SecurityGroups': [{'Description': 'default VPC security group',\n",
       "   'GroupName': 'default',\n",
       "   'IpPermissions': [{'IpProtocol': '-1',\n",
       "     'IpRanges': [],\n",
       "     'Ipv6Ranges': [],\n",
       "     'PrefixListIds': [],\n",
       "     'UserIdGroupPairs': [{'GroupId': 'sg-0df724f9bdd4cea2a',\n",
       "       'UserId': '395561393953'}]}],\n",
       "   'OwnerId': '395561393953',\n",
       "   'GroupId': 'sg-0df724f9bdd4cea2a',\n",
       "   'IpPermissionsEgress': [{'IpProtocol': '-1',\n",
       "     'IpRanges': [{'CidrIp': '0.0.0.0/0'}],\n",
       "     'Ipv6Ranges': [],\n",
       "     'PrefixListIds': [],\n",
       "     'UserIdGroupPairs': []}],\n",
       "   'VpcId': 'vpc-09783b1bfd4794a94'},\n",
       "  {'Description': 'launch-wizard-1 created 2020-08-19T01:44:38.226+05:30',\n",
       "   'GroupName': 'launch-wizard-1',\n",
       "   'IpPermissions': [{'FromPort': 22,\n",
       "     'IpProtocol': 'tcp',\n",
       "     'IpRanges': [{'CidrIp': '0.0.0.0/0'}],\n",
       "     'Ipv6Ranges': [],\n",
       "     'PrefixListIds': [],\n",
       "     'ToPort': 22,\n",
       "     'UserIdGroupPairs': []}],\n",
       "   'OwnerId': '395561393953',\n",
       "   'GroupId': 'sg-0427426178c361b9e',\n",
       "   'IpPermissionsEgress': [{'IpProtocol': '-1',\n",
       "     'IpRanges': [{'CidrIp': '0.0.0.0/0'}],\n",
       "     'Ipv6Ranges': [],\n",
       "     'PrefixListIds': [],\n",
       "     'UserIdGroupPairs': []}],\n",
       "   'VpcId': 'vpc-06f85a6d'}],\n",
       " 'ResponseMetadata': {'RequestId': '2c50ccb7-7491-469a-ac51-1bb1da04f66b',\n",
       "  'HTTPStatusCode': 200,\n",
       "  'HTTPHeaders': {'x-amzn-requestid': '2c50ccb7-7491-469a-ac51-1bb1da04f66b',\n",
       "   'content-type': 'text/xml;charset=UTF-8',\n",
       "   'content-length': '2797',\n",
       "   'vary': 'accept-encoding',\n",
       "   'date': 'Wed, 19 Aug 2020 19:42:11 GMT',\n",
       "   'server': 'AmazonEC2'},\n",
       "  'RetryAttempts': 0}}"
      ]
     },
     "execution_count": 22,
     "metadata": {},
     "output_type": "execute_result"
    }
   ],
   "source": [
    "x"
   ]
  },
  {
   "cell_type": "markdown",
   "metadata": {},
   "source": [
    "# How to describe security groups using filters"
   ]
  },
  {
   "cell_type": "code",
   "execution_count": 23,
   "metadata": {},
   "outputs": [],
   "source": [
    "x=client.describe_security_groups??"
   ]
  },
  {
   "cell_type": "code",
   "execution_count": 28,
   "metadata": {},
   "outputs": [],
   "source": [
    "x=client.describe_security_groups(Filters=[\n",
    "          {\n",
    "              'Name': 'group-id',\n",
    "              'Values': [\n",
    "                  'sg-0427426178c361b9e','sg-9ca9a9e1'\n",
    "              ]\n",
    "          },\n",
    "      ],)"
   ]
  },
  {
   "cell_type": "code",
   "execution_count": 29,
   "metadata": {},
   "outputs": [
    {
     "data": {
      "text/plain": [
       "{'SecurityGroups': [{'Description': 'launch-wizard-1 created 2020-08-19T01:44:38.226+05:30',\n",
       "   'GroupName': 'launch-wizard-1',\n",
       "   'IpPermissions': [{'FromPort': 22,\n",
       "     'IpProtocol': 'tcp',\n",
       "     'IpRanges': [{'CidrIp': '0.0.0.0/0'}],\n",
       "     'Ipv6Ranges': [],\n",
       "     'PrefixListIds': [],\n",
       "     'ToPort': 22,\n",
       "     'UserIdGroupPairs': []}],\n",
       "   'OwnerId': '395561393953',\n",
       "   'GroupId': 'sg-0427426178c361b9e',\n",
       "   'IpPermissionsEgress': [{'IpProtocol': '-1',\n",
       "     'IpRanges': [{'CidrIp': '0.0.0.0/0'}],\n",
       "     'Ipv6Ranges': [],\n",
       "     'PrefixListIds': [],\n",
       "     'UserIdGroupPairs': []}],\n",
       "   'VpcId': 'vpc-06f85a6d'},\n",
       "  {'Description': 'default VPC security group',\n",
       "   'GroupName': 'default',\n",
       "   'IpPermissions': [{'IpProtocol': '-1',\n",
       "     'IpRanges': [],\n",
       "     'Ipv6Ranges': [],\n",
       "     'PrefixListIds': [],\n",
       "     'UserIdGroupPairs': [{'GroupId': 'sg-9ca9a9e1',\n",
       "       'UserId': '395561393953'}]}],\n",
       "   'OwnerId': '395561393953',\n",
       "   'GroupId': 'sg-9ca9a9e1',\n",
       "   'IpPermissionsEgress': [{'IpProtocol': '-1',\n",
       "     'IpRanges': [{'CidrIp': '0.0.0.0/0'}],\n",
       "     'Ipv6Ranges': [],\n",
       "     'PrefixListIds': [],\n",
       "     'UserIdGroupPairs': []}],\n",
       "   'VpcId': 'vpc-06f85a6d'}],\n",
       " 'ResponseMetadata': {'RequestId': 'f713bbfe-a210-4bc3-b1e2-25a07bc0bcba',\n",
       "  'HTTPStatusCode': 200,\n",
       "  'HTTPHeaders': {'x-amzn-requestid': 'f713bbfe-a210-4bc3-b1e2-25a07bc0bcba',\n",
       "   'content-type': 'text/xml;charset=UTF-8',\n",
       "   'content-length': '2770',\n",
       "   'vary': 'accept-encoding',\n",
       "   'date': 'Wed, 19 Aug 2020 19:47:12 GMT',\n",
       "   'server': 'AmazonEC2'},\n",
       "  'RetryAttempts': 0}}"
      ]
     },
     "execution_count": 29,
     "metadata": {},
     "output_type": "execute_result"
    }
   ],
   "source": [
    "x"
   ]
  },
  {
   "cell_type": "code",
   "execution_count": null,
   "metadata": {},
   "outputs": [],
   "source": []
  }
 ],
 "metadata": {
  "kernelspec": {
   "display_name": "Python 3",
   "language": "python",
   "name": "python3"
  },
  "language_info": {
   "codemirror_mode": {
    "name": "ipython",
    "version": 3
   },
   "file_extension": ".py",
   "mimetype": "text/x-python",
   "name": "python",
   "nbconvert_exporter": "python",
   "pygments_lexer": "ipython3",
   "version": "3.7.6"
  }
 },
 "nbformat": 4,
 "nbformat_minor": 4
}
