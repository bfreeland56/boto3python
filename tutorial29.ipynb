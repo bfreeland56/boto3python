{
 "cells": [
  {
   "cell_type": "markdown",
   "metadata": {},
   "source": [
    "# tutorial 29 , how to enable & disable monitoring for aws ec2 instance"
   ]
  },
  {
   "cell_type": "code",
   "execution_count": 12,
   "metadata": {},
   "outputs": [],
   "source": [
    "import boto3"
   ]
  },
  {
   "cell_type": "code",
   "execution_count": 13,
   "metadata": {},
   "outputs": [],
   "source": [
    "ec2_client=boto3.client(\"ec2\")"
   ]
  },
  {
   "cell_type": "code",
   "execution_count": 15,
   "metadata": {},
   "outputs": [
    {
     "data": {
      "text/plain": [
       "{'InstanceMonitorings': [{'InstanceId': 'i-058fafa0cf76e7d3e',\n",
       "   'Monitoring': {'State': 'pending'}}],\n",
       " 'ResponseMetadata': {'RequestId': '43f3a1c5-3c6c-4125-b4d8-8dce7f153f3c',\n",
       "  'HTTPStatusCode': 200,\n",
       "  'HTTPHeaders': {'x-amzn-requestid': '43f3a1c5-3c6c-4125-b4d8-8dce7f153f3c',\n",
       "   'content-type': 'text/xml;charset=UTF-8',\n",
       "   'content-length': '424',\n",
       "   'date': 'Fri, 30 Oct 2020 22:12:22 GMT',\n",
       "   'server': 'AmazonEC2'},\n",
       "  'RetryAttempts': 0}}"
      ]
     },
     "execution_count": 15,
     "metadata": {},
     "output_type": "execute_result"
    }
   ],
   "source": [
    "#enable monitoring\n",
    "ec2_client.monitor_instances(InstanceIds=[\n",
    "          'i-058fafa0cf76e7d3e'\n",
    "      ])"
   ]
  },
  {
   "cell_type": "code",
   "execution_count": 16,
   "metadata": {},
   "outputs": [
    {
     "data": {
      "text/plain": [
       "{'InstanceMonitorings': [{'InstanceId': 'i-058fafa0cf76e7d3e',\n",
       "   'Monitoring': {'State': 'disabling'}}],\n",
       " 'ResponseMetadata': {'RequestId': 'efbc0996-2b70-4e4b-a59d-e396111d7706',\n",
       "  'HTTPStatusCode': 200,\n",
       "  'HTTPHeaders': {'x-amzn-requestid': 'efbc0996-2b70-4e4b-a59d-e396111d7706',\n",
       "   'content-type': 'text/xml;charset=UTF-8',\n",
       "   'content-length': '430',\n",
       "   'date': 'Fri, 30 Oct 2020 22:14:45 GMT',\n",
       "   'server': 'AmazonEC2'},\n",
       "  'RetryAttempts': 0}}"
      ]
     },
     "execution_count": 16,
     "metadata": {},
     "output_type": "execute_result"
    }
   ],
   "source": [
    "#disable monitoring\n",
    "ec2_client.unmonitor_instances(InstanceIds=[\n",
    "          'i-058fafa0cf76e7d3e'\n",
    "      ])"
   ]
  },
  {
   "cell_type": "code",
   "execution_count": null,
   "metadata": {},
   "outputs": [],
   "source": []
  }
 ],
 "metadata": {
  "kernelspec": {
   "display_name": "Python 3",
   "language": "python",
   "name": "python3"
  },
  "language_info": {
   "codemirror_mode": {
    "name": "ipython",
    "version": 3
   },
   "file_extension": ".py",
   "mimetype": "text/x-python",
   "name": "python",
   "nbconvert_exporter": "python",
   "pygments_lexer": "ipython3",
   "version": "3.7.6"
  }
 },
 "nbformat": 4,
 "nbformat_minor": 4
}
