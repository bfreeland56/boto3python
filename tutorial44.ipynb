{
 "cells": [
  {
   "cell_type": "code",
   "execution_count": 1,
   "metadata": {},
   "outputs": [],
   "source": [
    "import boto3\n",
    "ec2_client=boto3.client(\"ec2\")"
   ]
  },
  {
   "cell_type": "code",
   "execution_count": 6,
   "metadata": {},
   "outputs": [
    {
     "data": {
      "text/plain": [
       "{'VolumesModifications': [{'VolumeId': 'vol-0614641b9719bbae3',\n",
       "   'ModificationState': 'optimizing',\n",
       "   'TargetSize': 40,\n",
       "   'TargetIops': 120,\n",
       "   'TargetVolumeType': 'gp2',\n",
       "   'OriginalSize': 8,\n",
       "   'OriginalIops': 100,\n",
       "   'OriginalVolumeType': 'gp2',\n",
       "   'Progress': 0,\n",
       "   'StartTime': datetime.datetime(2020, 12, 18, 19, 52, 33, tzinfo=tzutc())}],\n",
       " 'ResponseMetadata': {'RequestId': '8fda62a5-97a8-45fa-80c8-da3156c6f9c7',\n",
       "  'HTTPStatusCode': 200,\n",
       "  'HTTPHeaders': {'x-amzn-requestid': '8fda62a5-97a8-45fa-80c8-da3156c6f9c7',\n",
       "   'content-type': 'text/xml;charset=UTF-8',\n",
       "   'transfer-encoding': 'chunked',\n",
       "   'vary': 'accept-encoding',\n",
       "   'date': 'Fri, 18 Dec 2020 19:53:18 GMT',\n",
       "   'server': 'AmazonEC2'},\n",
       "  'RetryAttempts': 0}}"
      ]
     },
     "execution_count": 6,
     "metadata": {},
     "output_type": "execute_result"
    }
   ],
   "source": [
    "ec2_client.describe_volumes_modifications( VolumeIds=[\n",
    "          'vol-0614641b9719bbae3',\n",
    "      ])"
   ]
  },
  {
   "cell_type": "code",
   "execution_count": 5,
   "metadata": {},
   "outputs": [
    {
     "data": {
      "text/plain": [
       "{'VolumeModification': {'VolumeId': 'vol-0614641b9719bbae3',\n",
       "  'ModificationState': 'modifying',\n",
       "  'TargetSize': 40,\n",
       "  'TargetIops': 120,\n",
       "  'TargetVolumeType': 'gp2',\n",
       "  'OriginalSize': 8,\n",
       "  'OriginalIops': 100,\n",
       "  'OriginalVolumeType': 'gp2',\n",
       "  'Progress': 0,\n",
       "  'StartTime': datetime.datetime(2020, 12, 18, 19, 52, 33, tzinfo=tzutc())},\n",
       " 'ResponseMetadata': {'RequestId': '47c8a8b4-075d-4e8c-b195-e690f1c62e8e',\n",
       "  'HTTPStatusCode': 200,\n",
       "  'HTTPHeaders': {'x-amzn-requestid': '47c8a8b4-075d-4e8c-b195-e690f1c62e8e',\n",
       "   'content-type': 'text/xml;charset=UTF-8',\n",
       "   'transfer-encoding': 'chunked',\n",
       "   'vary': 'accept-encoding',\n",
       "   'date': 'Fri, 18 Dec 2020 19:52:32 GMT',\n",
       "   'server': 'AmazonEC2'},\n",
       "  'RetryAttempts': 0}}"
      ]
     },
     "execution_count": 5,
     "metadata": {},
     "output_type": "execute_result"
    }
   ],
   "source": [
    "ec2_client.modify_volume(\n",
    "      VolumeId='vol-0614641b9719bbae3',\n",
    "      Size=40)"
   ]
  },
  {
   "cell_type": "code",
   "execution_count": null,
   "metadata": {},
   "outputs": [],
   "source": []
  }
 ],
 "metadata": {
  "kernelspec": {
   "display_name": "Python 3",
   "language": "python",
   "name": "python3"
  },
  "language_info": {
   "codemirror_mode": {
    "name": "ipython",
    "version": 3
   },
   "file_extension": ".py",
   "mimetype": "text/x-python",
   "name": "python",
   "nbconvert_exporter": "python",
   "pygments_lexer": "ipython3",
   "version": "3.7.6"
  }
 },
 "nbformat": 4,
 "nbformat_minor": 4
}
