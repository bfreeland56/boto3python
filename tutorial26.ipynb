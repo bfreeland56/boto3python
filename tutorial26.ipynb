{
 "cells": [
  {
   "cell_type": "markdown",
   "metadata": {},
   "source": [
    "# tutorial 26, get all ec2 instance id's using boto3 from python"
   ]
  },
  {
   "cell_type": "code",
   "execution_count": 74,
   "metadata": {},
   "outputs": [
    {
     "name": "stdout",
     "output_type": "stream",
     "text": [
      "instance id is i-03582945214a13d1c\n",
      "instance id is i-0dac00d54a530afde\n",
      "instance id is i-031b95b7b898b49fd\n"
     ]
    }
   ],
   "source": [
    "import boto3\n",
    "ec2_client=boto3.client(\"ec2\")\n",
    "x=ec2_client.describe_instances()\n",
    "data=x[\"Reservations\"][0]\n",
    "data_instance=data[\"Instances\"]\n",
    "for i in range (len(data_instance)):\n",
    "    print(f\"instance id is {data_instance[i]['InstanceId']}\")"
   ]
  },
  {
   "cell_type": "code",
   "execution_count": null,
   "metadata": {},
   "outputs": [],
   "source": []
  }
 ],
 "metadata": {
  "kernelspec": {
   "display_name": "Python 3",
   "language": "python",
   "name": "python3"
  },
  "language_info": {
   "codemirror_mode": {
    "name": "ipython",
    "version": 3
   },
   "file_extension": ".py",
   "mimetype": "text/x-python",
   "name": "python",
   "nbconvert_exporter": "python",
   "pygments_lexer": "ipython3",
   "version": "3.7.6"
  }
 },
 "nbformat": 4,
 "nbformat_minor": 4
}
