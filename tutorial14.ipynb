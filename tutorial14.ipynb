{
 "cells": [
  {
   "cell_type": "markdown",
   "metadata": {},
   "source": [
    "# tutorial 14,how to create security groups using boto3 from python"
   ]
  },
  {
   "cell_type": "code",
   "execution_count": 8,
   "metadata": {},
   "outputs": [],
   "source": [
    "import boto3"
   ]
  },
  {
   "cell_type": "code",
   "execution_count": 9,
   "metadata": {},
   "outputs": [],
   "source": [
    "client=boto3.client(\"ec2\")"
   ]
  },
  {
   "cell_type": "code",
   "execution_count": 11,
   "metadata": {},
   "outputs": [
    {
     "data": {
      "text/plain": [
       "{'GroupId': 'sg-03b46a7d7bdacfc5a',\n",
       " 'ResponseMetadata': {'RequestId': 'e2a336d5-1be2-48d5-9b47-8c6fe4bffabc',\n",
       "  'HTTPStatusCode': 200,\n",
       "  'HTTPHeaders': {'x-amzn-requestid': 'e2a336d5-1be2-48d5-9b47-8c6fe4bffabc',\n",
       "   'content-type': 'text/xml;charset=UTF-8',\n",
       "   'content-length': '283',\n",
       "   'date': 'Thu, 20 Aug 2020 12:24:42 GMT',\n",
       "   'server': 'AmazonEC2'},\n",
       "  'RetryAttempts': 0}}"
      ]
     },
     "execution_count": 11,
     "metadata": {},
     "output_type": "execute_result"
    }
   ],
   "source": [
    "client.create_security_group(Description='demo for tutorial14',\n",
    "      GroupName='tutori1al14_boto3')"
   ]
  },
  {
   "cell_type": "markdown",
   "metadata": {},
   "source": [
    "# how to create security groups associated with specific vpc ,using boto3 from python"
   ]
  },
  {
   "cell_type": "code",
   "execution_count": 13,
   "metadata": {},
   "outputs": [
    {
     "data": {
      "text/plain": [
       "{'GroupId': 'sg-01dd4568f33f56763',\n",
       " 'ResponseMetadata': {'RequestId': 'cceeece7-1631-4e86-94e1-b4b536963dd4',\n",
       "  'HTTPStatusCode': 200,\n",
       "  'HTTPHeaders': {'x-amzn-requestid': 'cceeece7-1631-4e86-94e1-b4b536963dd4',\n",
       "   'content-type': 'text/xml;charset=UTF-8',\n",
       "   'content-length': '283',\n",
       "   'date': 'Thu, 20 Aug 2020 12:29:31 GMT',\n",
       "   'server': 'AmazonEC2'},\n",
       "  'RetryAttempts': 0}}"
      ]
     },
     "execution_count": 13,
     "metadata": {},
     "output_type": "execute_result"
    }
   ],
   "source": [
    "client.create_security_group(Description='demo use case2 for tutorial14',\n",
    "      GroupName='tutorial14_demo_use_case2',\n",
    "      VpcId='vpc-0726e99e7bc27be14')"
   ]
  },
  {
   "cell_type": "code",
   "execution_count": null,
   "metadata": {},
   "outputs": [],
   "source": []
  },
  {
   "cell_type": "code",
   "execution_count": null,
   "metadata": {},
   "outputs": [],
   "source": []
  },
  {
   "cell_type": "code",
   "execution_count": null,
   "metadata": {},
   "outputs": [],
   "source": []
  }
 ],
 "metadata": {
  "kernelspec": {
   "display_name": "Python 3",
   "language": "python",
   "name": "python3"
  },
  "language_info": {
   "codemirror_mode": {
    "name": "ipython",
    "version": 3
   },
   "file_extension": ".py",
   "mimetype": "text/x-python",
   "name": "python",
   "nbconvert_exporter": "python",
   "pygments_lexer": "ipython3",
   "version": "3.7.6"
  }
 },
 "nbformat": 4,
 "nbformat_minor": 4
}
