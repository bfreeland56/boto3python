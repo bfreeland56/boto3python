{
 "cells": [
  {
   "cell_type": "markdown",
   "metadata": {},
   "source": [
    "# tutorial37,how to launch multiple ec2 instances from csv input using boto 3 python"
   ]
  },
  {
   "cell_type": "code",
   "execution_count": 1,
   "metadata": {},
   "outputs": [],
   "source": [
    "import io\n",
    "import boto3\n"
   ]
  },
  {
   "cell_type": "code",
   "execution_count": 20,
   "metadata": {},
   "outputs": [],
   "source": [
    "with io.open(\"ec2_data.csv\",\"r\",encoding=\"utf-8\")as f1:\n",
    "    data=f1.read()\n",
    "    f1.close()\n",
    "data=data.split(\"\\n\")[1:]\n",
    "ec2_resource=boto3.resource(\"ec2\")\n",
    "for row in data:\n",
    "    rows=row.split(\",\")\n",
    "    ec2_resource.create_instances(ImageId=rows[2],\n",
    "      InstanceType=rows[1],\n",
    "      KeyName=rows[6],\n",
    "    MaxCount=int(rows[4]),\n",
    "      MinCount=int(rows[4]),\n",
    "        SecurityGroups=[\n",
    "          rows[3]\n",
    "      ],\n",
    "        IamInstanceProfile={\n",
    "          \n",
    "          'Name': rows[-2]\n",
    "      },\n",
    "                                  TagSpecifications=[\n",
    "          {\n",
    "              'ResourceType': 'instance',\n",
    "              'Tags': [\n",
    "                  {\n",
    "                      'Key': 'Name',\n",
    "                      'Value': rows[0]\n",
    "                  },\n",
    "              ]\n",
    "          },\n",
    "      ],                             \n",
    "                                  \n",
    "    )\n",
    "    \n",
    "        \n",
    "    \n",
    "    \n",
    "    \n",
    "    "
   ]
  },
  {
   "cell_type": "code",
   "execution_count": 15,
   "metadata": {},
   "outputs": [],
   "source": [
    "ec2_resource.create_instances??"
   ]
  },
  {
   "cell_type": "code",
   "execution_count": null,
   "metadata": {},
   "outputs": [],
   "source": []
  }
 ],
 "metadata": {
  "kernelspec": {
   "display_name": "Python 3",
   "language": "python",
   "name": "python3"
  },
  "language_info": {
   "codemirror_mode": {
    "name": "ipython",
    "version": 3
   },
   "file_extension": ".py",
   "mimetype": "text/x-python",
   "name": "python",
   "nbconvert_exporter": "python",
   "pygments_lexer": "ipython3",
   "version": "3.7.6"
  }
 },
 "nbformat": 4,
 "nbformat_minor": 4
}
