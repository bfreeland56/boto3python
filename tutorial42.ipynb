{
 "cells": [
  {
   "cell_type": "markdown",
   "metadata": {},
   "source": [
    "# tutorial 42,describe aws ebs volume using boto3 python"
   ]
  },
  {
   "cell_type": "code",
   "execution_count": 45,
   "metadata": {},
   "outputs": [],
   "source": [
    "import boto3\n",
    "ec2=boto3.client(\"ec2\")\n",
    "import io"
   ]
  },
  {
   "cell_type": "code",
   "execution_count": 30,
   "metadata": {},
   "outputs": [],
   "source": [
    "response=ec2.describe_volumes()"
   ]
  },
  {
   "cell_type": "code",
   "execution_count": 32,
   "metadata": {},
   "outputs": [],
   "source": [
    "data=response[\"Volumes\"]"
   ]
  },
  {
   "cell_type": "code",
   "execution_count": 51,
   "metadata": {},
   "outputs": [],
   "source": [
    "with io.open(\"volume.csv\",\"w\",encoding=\"utf-8\")as f1:\n",
    "    f1.write(\"device,volumeid,instanceid,size\\n\")\n",
    "    for volume in data:\n",
    "     \n",
    "     volume_data=volume[\"Attachments\"]\n",
    "     if(len(volume_data)>0):\n",
    "        device=volume[\"Attachments\"][0][\"Device\"]\n",
    "        instance_id=volume[\"Attachments\"][0][\"InstanceId\"]\n",
    "      \n",
    "     else:\n",
    "        device=\"not attached\"\n",
    "        instance_id=\"not attached\"\n",
    "     volume_id=volume[\"VolumeId\"]\n",
    "     size=volume[\"Size\"]\n",
    "     f1.write(device+\",\"+volume_id+\",\"+instance_id+\",\"+str(size)+\"\\n\")\n",
    "\n",
    "    \n",
    "    \n",
    "    "
   ]
  },
  {
   "cell_type": "code",
   "execution_count": 37,
   "metadata": {},
   "outputs": [
    {
     "data": {
      "text/plain": [
       "{'Attachments': [],\n",
       " 'AvailabilityZone': 'us-east-2c',\n",
       " 'CreateTime': datetime.datetime(2020, 11, 25, 16, 51, 32, 191000, tzinfo=tzutc()),\n",
       " 'Encrypted': True,\n",
       " 'KmsKeyId': 'arn:aws:kms:us-east-2:395561393953:key/708236f0-75da-4b3f-9e2f-6ee726790b2a',\n",
       " 'Size': 20,\n",
       " 'SnapshotId': '',\n",
       " 'State': 'available',\n",
       " 'VolumeId': 'vol-09da62918043ae41c',\n",
       " 'Iops': 100,\n",
       " 'Tags': [{'Key': 'Tutorial-39', 'Value': 'string'}],\n",
       " 'VolumeType': 'gp2'}"
      ]
     },
     "execution_count": 37,
     "metadata": {},
     "output_type": "execute_result"
    }
   ],
   "source": [
    "data[1]"
   ]
  },
  {
   "cell_type": "code",
   "execution_count": 38,
   "metadata": {},
   "outputs": [
    {
     "data": {
      "text/plain": [
       "{'Attachments': [],\n",
       " 'AvailabilityZone': 'us-east-2c',\n",
       " 'CreateTime': datetime.datetime(2020, 11, 25, 17, 14, 35, 693000, tzinfo=tzutc()),\n",
       " 'Encrypted': True,\n",
       " 'KmsKeyId': 'arn:aws:kms:us-east-2:395561393953:key/708236f0-75da-4b3f-9e2f-6ee726790b2a',\n",
       " 'Size': 20,\n",
       " 'SnapshotId': '',\n",
       " 'State': 'available',\n",
       " 'VolumeId': 'vol-012d83cb863e3d3ab',\n",
       " 'Iops': 100,\n",
       " 'Tags': [{'Key': 'Name', 'Value': 'Tutorial-39'}],\n",
       " 'VolumeType': 'gp2'}"
      ]
     },
     "execution_count": 38,
     "metadata": {},
     "output_type": "execute_result"
    }
   ],
   "source": [
    "data[2]"
   ]
  },
  {
   "cell_type": "code",
   "execution_count": 44,
   "metadata": {},
   "outputs": [
    {
     "data": {
      "text/plain": [
       "{'Attachments': [{'AttachTime': datetime.datetime(2020, 11, 25, 16, 16, 17, tzinfo=tzutc()),\n",
       "   'Device': '/dev/xvda',\n",
       "   'InstanceId': 'i-098b9e59250152516',\n",
       "   'State': 'attached',\n",
       "   'VolumeId': 'vol-0f6faee8802ececb0',\n",
       "   'DeleteOnTermination': True}],\n",
       " 'AvailabilityZone': 'us-east-2c',\n",
       " 'CreateTime': datetime.datetime(2020, 11, 25, 16, 16, 17, 702000, tzinfo=tzutc()),\n",
       " 'Encrypted': False,\n",
       " 'Size': 20,\n",
       " 'SnapshotId': 'snap-0f830eff617a88b62',\n",
       " 'State': 'in-use',\n",
       " 'VolumeId': 'vol-0f6faee8802ececb0',\n",
       " 'Iops': 100,\n",
       " 'VolumeType': 'gp2'}"
      ]
     },
     "execution_count": 44,
     "metadata": {},
     "output_type": "execute_result"
    }
   ],
   "source": [
    "data[0]"
   ]
  },
  {
   "cell_type": "code",
   "execution_count": null,
   "metadata": {},
   "outputs": [],
   "source": []
  }
 ],
 "metadata": {
  "kernelspec": {
   "display_name": "Python 3",
   "language": "python",
   "name": "python3"
  },
  "language_info": {
   "codemirror_mode": {
    "name": "ipython",
    "version": 3
   },
   "file_extension": ".py",
   "mimetype": "text/x-python",
   "name": "python",
   "nbconvert_exporter": "python",
   "pygments_lexer": "ipython3",
   "version": "3.7.6"
  }
 },
 "nbformat": 4,
 "nbformat_minor": 4
}
