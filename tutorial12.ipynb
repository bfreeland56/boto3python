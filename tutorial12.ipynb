{
 "cells": [
  {
   "cell_type": "markdown",
   "metadata": {},
   "source": [
    "# tutorial 12,how to describe vpc using python"
   ]
  },
  {
   "cell_type": "code",
   "execution_count": 1,
   "metadata": {},
   "outputs": [],
   "source": [
    "import boto3\n"
   ]
  },
  {
   "cell_type": "code",
   "execution_count": 2,
   "metadata": {},
   "outputs": [],
   "source": [
    "client=boto3.client(\"ec2\")"
   ]
  },
  {
   "cell_type": "markdown",
   "metadata": {},
   "source": [
    "# how to describe all vpc is available in your account"
   ]
  },
  {
   "cell_type": "code",
   "execution_count": 5,
   "metadata": {},
   "outputs": [],
   "source": [
    "x=client.describe_vpcs()"
   ]
  },
  {
   "cell_type": "code",
   "execution_count": 8,
   "metadata": {},
   "outputs": [],
   "source": [
    "no_of_vpcs=x[\"Vpcs\"]"
   ]
  },
  {
   "cell_type": "code",
   "execution_count": 9,
   "metadata": {},
   "outputs": [
    {
     "data": {
      "text/plain": [
       "3"
      ]
     },
     "execution_count": 9,
     "metadata": {},
     "output_type": "execute_result"
    }
   ],
   "source": [
    "len(no_of_vpcs)"
   ]
  },
  {
   "cell_type": "code",
   "execution_count": 11,
   "metadata": {},
   "outputs": [
    {
     "name": "stdout",
     "output_type": "stream",
     "text": [
      "vpc-06f85a6d\n",
      "vpc-0726e99e7bc27be14\n",
      "vpc-09783b1bfd4794a94\n"
     ]
    }
   ],
   "source": [
    "for vpc in no_of_vpcs:\n",
    "    print(vpc[\"VpcId\"])"
   ]
  },
  {
   "cell_type": "markdown",
   "metadata": {},
   "source": [
    "# how to describe one vpc based on vpc id"
   ]
  },
  {
   "cell_type": "code",
   "execution_count": 14,
   "metadata": {},
   "outputs": [],
   "source": [
    "x=client.describe_vpcs(VpcIds=[\"vpc-06f85a6d\",\"vpc-0726e99e7bc27be14\"])"
   ]
  },
  {
   "cell_type": "code",
   "execution_count": 15,
   "metadata": {},
   "outputs": [
    {
     "data": {
      "text/plain": [
       "{'Vpcs': [{'CidrBlock': '172.31.0.0/16',\n",
       "   'DhcpOptionsId': 'dopt-400d892b',\n",
       "   'State': 'available',\n",
       "   'VpcId': 'vpc-06f85a6d',\n",
       "   'OwnerId': '395561393953',\n",
       "   'InstanceTenancy': 'default',\n",
       "   'CidrBlockAssociationSet': [{'AssociationId': 'vpc-cidr-assoc-86d975ed',\n",
       "     'CidrBlock': '172.31.0.0/16',\n",
       "     'CidrBlockState': {'State': 'associated'}}],\n",
       "   'IsDefault': True},\n",
       "  {'CidrBlock': '10.0.0.0/16',\n",
       "   'DhcpOptionsId': 'dopt-400d892b',\n",
       "   'State': 'available',\n",
       "   'VpcId': 'vpc-0726e99e7bc27be14',\n",
       "   'OwnerId': '395561393953',\n",
       "   'InstanceTenancy': 'default',\n",
       "   'CidrBlockAssociationSet': [{'AssociationId': 'vpc-cidr-assoc-0b116f25341f963c4',\n",
       "     'CidrBlock': '10.0.0.0/16',\n",
       "     'CidrBlockState': {'State': 'associated'}}],\n",
       "   'IsDefault': False}],\n",
       " 'ResponseMetadata': {'RequestId': '7b65f4fe-e084-4ba5-b55b-0d97a62da57d',\n",
       "  'HTTPStatusCode': 200,\n",
       "  'HTTPHeaders': {'x-amzn-requestid': '7b65f4fe-e084-4ba5-b55b-0d97a62da57d',\n",
       "   'content-type': 'text/xml;charset=UTF-8',\n",
       "   'content-length': '1708',\n",
       "   'date': 'Wed, 19 Aug 2020 11:47:10 GMT',\n",
       "   'server': 'AmazonEC2'},\n",
       "  'RetryAttempts': 0}}"
      ]
     },
     "execution_count": 15,
     "metadata": {},
     "output_type": "execute_result"
    }
   ],
   "source": [
    "x"
   ]
  },
  {
   "cell_type": "markdown",
   "metadata": {},
   "source": [
    "# how to describe vpc based on filter"
   ]
  },
  {
   "cell_type": "code",
   "execution_count": 16,
   "metadata": {},
   "outputs": [],
   "source": [
    "x=client.describe_vpcs??"
   ]
  },
  {
   "cell_type": "code",
   "execution_count": 19,
   "metadata": {},
   "outputs": [],
   "source": [
    "x=client.describe_vpcs(Filters=[\n",
    "          {\n",
    "              'Name': 'vpc-id',\n",
    "              'Values': [\n",
    "                  'vpc-06f85a6d',\n",
    "                  'vpc-0726e99e7bc27be14'\n",
    "                  \n",
    "              ]\n",
    "          },\n",
    "      ])"
   ]
  },
  {
   "cell_type": "code",
   "execution_count": 20,
   "metadata": {},
   "outputs": [
    {
     "data": {
      "text/plain": [
       "{'Vpcs': [{'CidrBlock': '172.31.0.0/16',\n",
       "   'DhcpOptionsId': 'dopt-400d892b',\n",
       "   'State': 'available',\n",
       "   'VpcId': 'vpc-06f85a6d',\n",
       "   'OwnerId': '395561393953',\n",
       "   'InstanceTenancy': 'default',\n",
       "   'CidrBlockAssociationSet': [{'AssociationId': 'vpc-cidr-assoc-86d975ed',\n",
       "     'CidrBlock': '172.31.0.0/16',\n",
       "     'CidrBlockState': {'State': 'associated'}}],\n",
       "   'IsDefault': True},\n",
       "  {'CidrBlock': '10.0.0.0/16',\n",
       "   'DhcpOptionsId': 'dopt-400d892b',\n",
       "   'State': 'available',\n",
       "   'VpcId': 'vpc-0726e99e7bc27be14',\n",
       "   'OwnerId': '395561393953',\n",
       "   'InstanceTenancy': 'default',\n",
       "   'CidrBlockAssociationSet': [{'AssociationId': 'vpc-cidr-assoc-0b116f25341f963c4',\n",
       "     'CidrBlock': '10.0.0.0/16',\n",
       "     'CidrBlockState': {'State': 'associated'}}],\n",
       "   'IsDefault': False}],\n",
       " 'ResponseMetadata': {'RequestId': '97aba604-fd16-45fc-a5dd-ed17e3da81e8',\n",
       "  'HTTPStatusCode': 200,\n",
       "  'HTTPHeaders': {'x-amzn-requestid': '97aba604-fd16-45fc-a5dd-ed17e3da81e8',\n",
       "   'content-type': 'text/xml;charset=UTF-8',\n",
       "   'content-length': '1708',\n",
       "   'date': 'Wed, 19 Aug 2020 11:50:14 GMT',\n",
       "   'server': 'AmazonEC2'},\n",
       "  'RetryAttempts': 0}}"
      ]
     },
     "execution_count": 20,
     "metadata": {},
     "output_type": "execute_result"
    }
   ],
   "source": [
    "x"
   ]
  },
  {
   "cell_type": "code",
   "execution_count": null,
   "metadata": {},
   "outputs": [],
   "source": []
  }
 ],
 "metadata": {
  "kernelspec": {
   "display_name": "Python 3",
   "language": "python",
   "name": "python3"
  },
  "language_info": {
   "codemirror_mode": {
    "name": "ipython",
    "version": 3
   },
   "file_extension": ".py",
   "mimetype": "text/x-python",
   "name": "python",
   "nbconvert_exporter": "python",
   "pygments_lexer": "ipython3",
   "version": "3.7.6"
  }
 },
 "nbformat": 4,
 "nbformat_minor": 4
}
