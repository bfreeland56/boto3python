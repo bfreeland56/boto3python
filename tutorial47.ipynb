{
 "cells": [
  {
   "cell_type": "code",
   "execution_count": null,
   "metadata": {},
   "outputs": [],
   "source": [
    "#how to create aws ebs volume from snapshot using boto3 and python"
   ]
  },
  {
   "cell_type": "code",
   "execution_count": 1,
   "metadata": {},
   "outputs": [],
   "source": [
    "import boto3\n",
    "ec2_client=boto3.client(\"ec2\")"
   ]
  },
  {
   "cell_type": "code",
   "execution_count": 3,
   "metadata": {},
   "outputs": [
    {
     "data": {
      "text/plain": [
       "{'AvailabilityZone': 'us-east-2c',\n",
       " 'CreateTime': datetime.datetime(2020, 12, 25, 17, 13, 36, tzinfo=tzutc()),\n",
       " 'Encrypted': True,\n",
       " 'Size': 12,\n",
       " 'SnapshotId': 'snap-0937bebed9fe4564e',\n",
       " 'State': 'creating',\n",
       " 'VolumeId': 'vol-0c7a86937ec8e49a6',\n",
       " 'Iops': 100,\n",
       " 'Tags': [],\n",
       " 'VolumeType': 'gp2',\n",
       " 'MultiAttachEnabled': False,\n",
       " 'ResponseMetadata': {'RequestId': '615ea26a-2898-4f0e-bd0b-82794c210b35',\n",
       "  'HTTPStatusCode': 200,\n",
       "  'HTTPHeaders': {'x-amzn-requestid': '615ea26a-2898-4f0e-bd0b-82794c210b35',\n",
       "   'content-type': 'text/xml;charset=UTF-8',\n",
       "   'content-length': '605',\n",
       "   'date': 'Fri, 25 Dec 2020 17:13:36 GMT',\n",
       "   'server': 'AmazonEC2'},\n",
       "  'RetryAttempts': 0}}"
      ]
     },
     "execution_count": 3,
     "metadata": {},
     "output_type": "execute_result"
    }
   ],
   "source": [
    "ec2_client.create_volume(AvailabilityZone='us-east-2c',\n",
    "      Encrypted=True,\n",
    "      Size=12,\n",
    "      SnapshotId='snap-0937bebed9fe4564e',\n",
    "      VolumeType='gp2')"
   ]
  },
  {
   "cell_type": "code",
   "execution_count": null,
   "metadata": {},
   "outputs": [],
   "source": []
  }
 ],
 "metadata": {
  "kernelspec": {
   "display_name": "Python 3",
   "language": "python",
   "name": "python3"
  },
  "language_info": {
   "codemirror_mode": {
    "name": "ipython",
    "version": 3
   },
   "file_extension": ".py",
   "mimetype": "text/x-python",
   "name": "python",
   "nbconvert_exporter": "python",
   "pygments_lexer": "ipython3",
   "version": "3.7.6"
  }
 },
 "nbformat": 4,
 "nbformat_minor": 4
}
