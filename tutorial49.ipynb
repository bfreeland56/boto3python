{
 "cells": [
  {
   "cell_type": "markdown",
   "metadata": {},
   "source": [
    "# tutorial49,how to describe aws ebs volume snapshot using boto3 and python"
   ]
  },
  {
   "cell_type": "code",
   "execution_count": 1,
   "metadata": {},
   "outputs": [],
   "source": [
    "import boto3\n",
    "ec2_boto3=boto3.client(\"ec2\")"
   ]
  },
  {
   "cell_type": "code",
   "execution_count": 4,
   "metadata": {},
   "outputs": [
    {
     "data": {
      "text/plain": [
       "{'Snapshots': [{'Description': 'snapshot from basevolume using python',\n",
       "   'Encrypted': False,\n",
       "   'OwnerId': '395561393953',\n",
       "   'Progress': '100%',\n",
       "   'SnapshotId': 'snap-03f0a437fd2dea30e',\n",
       "   'StartTime': datetime.datetime(2020, 12, 25, 18, 18, 35, 259000, tzinfo=tzutc()),\n",
       "   'State': 'completed',\n",
       "   'VolumeId': 'vol-0be0c6ac7328b1169',\n",
       "   'VolumeSize': 10}],\n",
       " 'ResponseMetadata': {'RequestId': '4d7139e3-0205-46e8-8ae1-00f10e21e27b',\n",
       "  'HTTPStatusCode': 200,\n",
       "  'HTTPHeaders': {'x-amzn-requestid': '4d7139e3-0205-46e8-8ae1-00f10e21e27b',\n",
       "   'content-type': 'text/xml;charset=UTF-8',\n",
       "   'content-length': '730',\n",
       "   'date': 'Fri, 25 Dec 2020 18:24:58 GMT',\n",
       "   'server': 'AmazonEC2'},\n",
       "  'RetryAttempts': 1}}"
      ]
     },
     "execution_count": 4,
     "metadata": {},
     "output_type": "execute_result"
    }
   ],
   "source": [
    "ec2_boto3.describe_snapshots(SnapshotIds=[\n",
    "          'snap-03f0a437fd2dea30e'\n",
    "      ])"
   ]
  },
  {
   "cell_type": "code",
   "execution_count": null,
   "metadata": {},
   "outputs": [],
   "source": []
  }
 ],
 "metadata": {
  "kernelspec": {
   "display_name": "Python 3",
   "language": "python",
   "name": "python3"
  },
  "language_info": {
   "codemirror_mode": {
    "name": "ipython",
    "version": 3
   },
   "file_extension": ".py",
   "mimetype": "text/x-python",
   "name": "python",
   "nbconvert_exporter": "python",
   "pygments_lexer": "ipython3",
   "version": "3.7.6"
  }
 },
 "nbformat": 4,
 "nbformat_minor": 4
}
