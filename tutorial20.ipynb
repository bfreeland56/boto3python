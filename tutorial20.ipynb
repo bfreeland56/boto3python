{
 "cells": [
  {
   "cell_type": "markdown",
   "metadata": {},
   "source": [
    "# tutorial19,how to remove outbound rule from aws security group"
   ]
  },
  {
   "cell_type": "code",
   "execution_count": 1,
   "metadata": {},
   "outputs": [],
   "source": [
    "import boto3"
   ]
  },
  {
   "cell_type": "code",
   "execution_count": 2,
   "metadata": {},
   "outputs": [],
   "source": [
    "client=boto3.client(\"ec2\")"
   ]
  },
  {
   "cell_type": "code",
   "execution_count": 5,
   "metadata": {},
   "outputs": [
    {
     "data": {
      "text/plain": [
       "{'ResponseMetadata': {'RequestId': 'bda76439-51cf-47b1-9601-06df8fcacadf',\n",
       "  'HTTPStatusCode': 200,\n",
       "  'HTTPHeaders': {'x-amzn-requestid': 'bda76439-51cf-47b1-9601-06df8fcacadf',\n",
       "   'content-type': 'text/xml;charset=UTF-8',\n",
       "   'content-length': '251',\n",
       "   'date': 'Sat, 22 Aug 2020 10:09:52 GMT',\n",
       "   'server': 'AmazonEC2'},\n",
       "  'RetryAttempts': 0}}"
      ]
     },
     "execution_count": 5,
     "metadata": {},
     "output_type": "execute_result"
    }
   ],
   "source": [
    "client.revoke_security_group_egress(\n",
    "      GroupId='sg-03b46a7d7bdacfc5a',\n",
    "      IpPermissions = [\n",
    "          {\n",
    "              'FromPort': 80,\n",
    "              'IpProtocol': 'tcp',\n",
    "              'IpRanges': [\n",
    "                  {\n",
    "                      'CidrIp': '0.0.0.0/0',\n",
    "                      'Description': 'tutorial_19'\n",
    "                  },\n",
    "              ],\n",
    "              \n",
    "              'ToPort': 80\n",
    "          },\n",
    "      ],\n",
    "    \n",
    "  )"
   ]
  },
  {
   "cell_type": "code",
   "execution_count": null,
   "metadata": {},
   "outputs": [],
   "source": []
  },
  {
   "cell_type": "code",
   "execution_count": null,
   "metadata": {},
   "outputs": [],
   "source": []
  }
 ],
 "metadata": {
  "kernelspec": {
   "display_name": "Python 3",
   "language": "python",
   "name": "python3"
  },
  "language_info": {
   "codemirror_mode": {
    "name": "ipython",
    "version": 3
   },
   "file_extension": ".py",
   "mimetype": "text/x-python",
   "name": "python",
   "nbconvert_exporter": "python",
   "pygments_lexer": "ipython3",
   "version": "3.7.6"
  }
 },
 "nbformat": 4,
 "nbformat_minor": 4
}
