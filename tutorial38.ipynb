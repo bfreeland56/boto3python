{
 "cells": [
  {
   "cell_type": "markdown",
   "metadata": {},
   "source": [
    "# tutorial 38,how to create aws ebs volume using boto3 python"
   ]
  },
  {
   "cell_type": "code",
   "execution_count": 1,
   "metadata": {},
   "outputs": [],
   "source": [
    "import boto3\n",
    "ec2_client=boto3.client(\"ec2\")"
   ]
  },
  {
   "cell_type": "code",
   "execution_count": 2,
   "metadata": {},
   "outputs": [
    {
     "data": {
      "text/plain": [
       "{'AvailabilityZone': 'us-east-2c',\n",
       " 'CreateTime': datetime.datetime(2020, 12, 12, 10, 41, 51, tzinfo=tzutc()),\n",
       " 'Encrypted': True,\n",
       " 'Size': 8,\n",
       " 'SnapshotId': '',\n",
       " 'State': 'creating',\n",
       " 'VolumeId': 'vol-019728e984c85025f',\n",
       " 'Iops': 100,\n",
       " 'Tags': [{'Key': 'Name', 'Value': 'Tutorial38-1'}],\n",
       " 'VolumeType': 'gp2',\n",
       " 'ResponseMetadata': {'RequestId': '9a7eb74b-8b02-4529-b73b-d3480832be53',\n",
       "  'HTTPStatusCode': 200,\n",
       "  'HTTPHeaders': {'x-amzn-requestid': '9a7eb74b-8b02-4529-b73b-d3480832be53',\n",
       "   'content-type': 'text/xml;charset=UTF-8',\n",
       "   'content-length': '643',\n",
       "   'date': 'Sat, 12 Dec 2020 10:41:50 GMT',\n",
       "   'server': 'AmazonEC2'},\n",
       "  'RetryAttempts': 0}}"
      ]
     },
     "execution_count": 2,
     "metadata": {},
     "output_type": "execute_result"
    }
   ],
   "source": [
    "ec2_client.create_volume(AvailabilityZone='us-east-2c',\n",
    "      Size=8,\n",
    "    Encrypted=True,               \n",
    "      VolumeType='gp2',\n",
    "      TagSpecifications=[\n",
    "          {\n",
    "              'ResourceType': 'volume',\n",
    "              'Tags': [\n",
    "                  {\n",
    "                      'Key': 'Name',\n",
    "                      'Value': 'Tutorial38-1'\n",
    "                  },\n",
    "              ]\n",
    "          },\n",
    "      ],\n",
    "     \n",
    "  )"
   ]
  },
  {
   "cell_type": "code",
   "execution_count": null,
   "metadata": {},
   "outputs": [],
   "source": []
  }
 ],
 "metadata": {
  "kernelspec": {
   "display_name": "Python 3",
   "language": "python",
   "name": "python3"
  },
  "language_info": {
   "codemirror_mode": {
    "name": "ipython",
    "version": 3
   },
   "file_extension": ".py",
   "mimetype": "text/x-python",
   "name": "python",
   "nbconvert_exporter": "python",
   "pygments_lexer": "ipython3",
   "version": "3.7.6"
  }
 },
 "nbformat": 4,
 "nbformat_minor": 4
}
