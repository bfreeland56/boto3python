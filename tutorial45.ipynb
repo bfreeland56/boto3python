{
 "cells": [
  {
   "cell_type": "markdown",
   "metadata": {},
   "source": [
    "# tutorial 45,Import custom vm Image as Ami Using boto3 python"
   ]
  },
  {
   "cell_type": "code",
   "execution_count": 110,
   "metadata": {},
   "outputs": [],
   "source": [
    "import boto3\n",
    "s3_client=boto3.client(\"s3\")"
   ]
  },
  {
   "cell_type": "code",
   "execution_count": 113,
   "metadata": {},
   "outputs": [],
   "source": [
    "#upload custom vhd image to s3 bucket\n",
    "s3_client.upload_file(Filename=\"/Users/roni/Downloads/64bit/hd.vhd\",\n",
    "    Bucket=\"tutorial45\",\n",
    "    Key=\"tutorial45.vhd\"\n",
    "    )"
   ]
  },
  {
   "cell_type": "code",
   "execution_count": 114,
   "metadata": {},
   "outputs": [],
   "source": [
    "#create iam role\n",
    "iam_client=boto3.client(\"iam\")\n",
    "\n"
   ]
  },
  {
   "cell_type": "code",
   "execution_count": 116,
   "metadata": {},
   "outputs": [],
   "source": [
    "import json\n",
    "s=json.dumps({\n",
    " \"Version\": \"2012-10-17\",\n",
    " \"Statement\": [\n",
    " {\n",
    " \"Effect\": \"Allow\",\n",
    " \"Principal\": { \"Service\": \"vmie.amazonaws.com\" },\n",
    " \"Action\": \"sts:AssumeRole\",\n",
    " \"Condition\": {\n",
    " \"StringEquals\":{\n",
    " \"sts:Externalid\": \"vmimport\"\n",
    " }\n",
    " }\n",
    " }\n",
    " ]\n",
    "})"
   ]
  },
  {
   "cell_type": "code",
   "execution_count": 117,
   "metadata": {},
   "outputs": [
    {
     "data": {
      "text/plain": [
       "{'Role': {'Path': '/',\n",
       "  'RoleName': 'vmimport',\n",
       "  'RoleId': 'AROAVYGKL34QRCKONZNDO',\n",
       "  'Arn': 'arn:aws:iam::395561393953:role/vmimport',\n",
       "  'CreateDate': datetime.datetime(2020, 12, 19, 18, 32, 23, tzinfo=tzutc()),\n",
       "  'AssumeRolePolicyDocument': {'Version': '2012-10-17',\n",
       "   'Statement': [{'Effect': 'Allow',\n",
       "     'Principal': {'Service': 'vmie.amazonaws.com'},\n",
       "     'Action': 'sts:AssumeRole',\n",
       "     'Condition': {'StringEquals': {'sts:Externalid': 'vmimport'}}}]},\n",
       "  'Tags': [{'Key': 'Name', 'Value': 'vmimport'}]},\n",
       " 'ResponseMetadata': {'RequestId': '47bfbe22-c899-4a75-aeaf-70137ab09fe7',\n",
       "  'HTTPStatusCode': 200,\n",
       "  'HTTPHeaders': {'x-amzn-requestid': '47bfbe22-c899-4a75-aeaf-70137ab09fe7',\n",
       "   'content-type': 'text/xml',\n",
       "   'content-length': '995',\n",
       "   'date': 'Sat, 19 Dec 2020 18:32:23 GMT'},\n",
       "  'RetryAttempts': 0}}"
      ]
     },
     "execution_count": 117,
     "metadata": {},
     "output_type": "execute_result"
    }
   ],
   "source": [
    "iam_client.create_role(\n",
    "      RoleName='vmimport',\n",
    "      AssumeRolePolicyDocument=s,\n",
    "      Description='vmimport tutorial45',\n",
    "      MaxSessionDuration=3600,\n",
    "      Tags=[\n",
    "          {\n",
    "              'Key': 'Name',\n",
    "              'Value': 'vmimport'\n",
    "          },\n",
    "      ])"
   ]
  },
  {
   "cell_type": "code",
   "execution_count": null,
   "metadata": {},
   "outputs": [],
   "source": [
    "s1=json.dumps({\n",
    " \"Version\":\"2012-10-17\",\n",
    " \"Statement\":[\n",
    " {\n",
    " \"Effect\": \"Allow\",\n",
    " \"Action\": [\n",
    " \"s3:GetBucketLocation\",\n",
    " \"s3:GetObject\",\n",
    " \"s3:ListBucket\"\n",
    " ],\n",
    " \"Resource\": [\n",
    " \"arn:aws:s3:::tutorial45\",\n",
    " \"arn:aws:s3:::tutorial45/*\"\n",
    " ]\n",
    " },\n",
    " {\n",
    " \"Effect\": \"Allow\",\n",
    " \"Action\": [\n",
    " \"s3:GetBucketLocation\",\n",
    " \"s3:GetObject\",\n",
    " \"s3:ListBucket\",\n",
    " \"s3:PutObject\",\n",
    " \"s3:GetBucketAcl\"\n",
    " ],\n",
    " \"Resource\": [\n",
    " \"arn:aws:s3:::tutorial45\",\n",
    " \"arn:aws:s3:::tutorial45/*\"\n",
    " ]\n",
    " },\n",
    " {\n",
    " \"Effect\": \"Allow\",\n",
    " \"Action\": [\n",
    " \"ec2:ModifySnapshotAttribute\",\n",
    " \"ec2:CopySnapshot\",\n",
    " \"ec2:RegisterImage\",\n",
    " \"ec2:Describe*\"\n",
    " ],\n",
    " \"Resource\": \"*\")"
   ]
  },
  {
   "cell_type": "code",
   "execution_count": 119,
   "metadata": {},
   "outputs": [
    {
     "data": {
      "text/plain": [
       "{'ResponseMetadata': {'RequestId': 'be3957a4-d4fc-45e5-85ae-c36be1a4ec51',\n",
       "  'HTTPStatusCode': 200,\n",
       "  'HTTPHeaders': {'x-amzn-requestid': 'be3957a4-d4fc-45e5-85ae-c36be1a4ec51',\n",
       "   'content-type': 'text/xml',\n",
       "   'content-length': '206',\n",
       "   'date': 'Sat, 19 Dec 2020 18:35:55 GMT'},\n",
       "  'RetryAttempts': 0}}"
      ]
     },
     "execution_count": 119,
     "metadata": {},
     "output_type": "execute_result"
    }
   ],
   "source": [
    "#put inline policy for the iam role\n",
    "iam_client.put_role_policy(RoleName='vmimport',\n",
    "      PolicyName='tutorial45',\n",
    "      PolicyDocument=s1)\n"
   ]
  },
  {
   "cell_type": "code",
   "execution_count": 120,
   "metadata": {},
   "outputs": [],
   "source": [
    "#import the custom vm image as ami\n",
    "ec2_client=boto3.client(\"ec2\")"
   ]
  },
  {
   "cell_type": "code",
   "execution_count": 123,
   "metadata": {},
   "outputs": [
    {
     "data": {
      "text/plain": [
       "{'ImportTaskId': 'import-ami-09448588081a28b39',\n",
       " 'Progress': '1',\n",
       " 'SnapshotDetails': [{'Description': 'tutorial45_custom_ami',\n",
       "   'DeviceName': '/dev/xvda',\n",
       "   'DiskImageSize': 0.0,\n",
       "   'Format': 'VHD',\n",
       "   'UserBucket': {'S3Bucket': 'tutorial45', 'S3Key': 'tutorial45.vhd'}}],\n",
       " 'Status': 'active',\n",
       " 'StatusMessage': 'pending',\n",
       " 'ResponseMetadata': {'RequestId': '5a2a471e-2616-4508-a001-89a8e04223a4',\n",
       "  'HTTPStatusCode': 200,\n",
       "  'HTTPHeaders': {'x-amzn-requestid': '5a2a471e-2616-4508-a001-89a8e04223a4',\n",
       "   'content-type': 'text/xml;charset=UTF-8',\n",
       "   'transfer-encoding': 'chunked',\n",
       "   'vary': 'accept-encoding',\n",
       "   'date': 'Sat, 19 Dec 2020 18:40:34 GMT',\n",
       "   'server': 'AmazonEC2'},\n",
       "  'RetryAttempts': 0}}"
      ]
     },
     "execution_count": 123,
     "metadata": {},
     "output_type": "execute_result"
    }
   ],
   "source": [
    "ec2_client.import_image(DiskContainers=[\n",
    "          {'Description': 'tutorial45_custom_ami',\n",
    "              'DeviceName': '/dev/xvda',\n",
    "              'Format': 'vhd',\n",
    "              'UserBucket': {\n",
    "                  'S3Bucket': 'tutorial45',\n",
    "                  'S3Key': 'tutorial45.vhd'\n",
    "              }\n",
    "          },\n",
    "      ],)"
   ]
  },
  {
   "cell_type": "code",
   "execution_count": 158,
   "metadata": {},
   "outputs": [
    {
     "data": {
      "text/plain": [
       "{'ImportImageTasks': [{'Architecture': 'x86_64',\n",
       "   'ImageId': 'ami-097f56aeb7ccae900',\n",
       "   'ImportTaskId': 'import-ami-09448588081a28b39',\n",
       "   'LicenseType': 'BYOL',\n",
       "   'Platform': 'Linux',\n",
       "   'SnapshotDetails': [{'Description': 'tutorial45_custom_ami',\n",
       "     'DeviceName': '/dev/sda1',\n",
       "     'DiskImageSize': 2813010432.0,\n",
       "     'Format': 'VHD',\n",
       "     'SnapshotId': 'snap-01be490167b61388a',\n",
       "     'Status': 'completed',\n",
       "     'UserBucket': {'S3Bucket': 'tutorial45', 'S3Key': 'tutorial45.vhd'}}],\n",
       "   'Status': 'completed',\n",
       "   'Tags': []}],\n",
       " 'ResponseMetadata': {'RequestId': '41bea4c6-22ac-46cb-91d5-33844229ce9e',\n",
       "  'HTTPStatusCode': 200,\n",
       "  'HTTPHeaders': {'x-amzn-requestid': '41bea4c6-22ac-46cb-91d5-33844229ce9e',\n",
       "   'content-type': 'text/xml;charset=UTF-8',\n",
       "   'transfer-encoding': 'chunked',\n",
       "   'vary': 'accept-encoding',\n",
       "   'date': 'Sat, 19 Dec 2020 19:04:25 GMT',\n",
       "   'server': 'AmazonEC2'},\n",
       "  'RetryAttempts': 0}}"
      ]
     },
     "execution_count": 158,
     "metadata": {},
     "output_type": "execute_result"
    }
   ],
   "source": [
    "ec2_client.describe_import_image_tasks(ImportTaskIds=[\n",
    "          'import-ami-09448588081a28b39'\n",
    "      ],)"
   ]
  },
  {
   "cell_type": "code",
   "execution_count": null,
   "metadata": {},
   "outputs": [],
   "source": []
  },
  {
   "cell_type": "code",
   "execution_count": null,
   "metadata": {},
   "outputs": [],
   "source": []
  },
  {
   "cell_type": "code",
   "execution_count": null,
   "metadata": {},
   "outputs": [],
   "source": []
  },
  {
   "cell_type": "code",
   "execution_count": null,
   "metadata": {},
   "outputs": [],
   "source": []
  },
  {
   "cell_type": "code",
   "execution_count": null,
   "metadata": {},
   "outputs": [],
   "source": []
  },
  {
   "cell_type": "code",
   "execution_count": null,
   "metadata": {},
   "outputs": [],
   "source": []
  }
 ],
 "metadata": {
  "kernelspec": {
   "display_name": "Python 3",
   "language": "python",
   "name": "python3"
  },
  "language_info": {
   "codemirror_mode": {
    "name": "ipython",
    "version": 3
   },
   "file_extension": ".py",
   "mimetype": "text/x-python",
   "name": "python",
   "nbconvert_exporter": "python",
   "pygments_lexer": "ipython3",
   "version": "3.7.6"
  }
 },
 "nbformat": 4,
 "nbformat_minor": 4
}
