{
 "cells": [
  {
   "cell_type": "markdown",
   "metadata": {},
   "source": [
    "# tutorial 28,terminate multiple ec2 insaces using boto3 python"
   ]
  },
  {
   "cell_type": "code",
   "execution_count": 30,
   "metadata": {},
   "outputs": [],
   "source": [
    "import boto3\n",
    "ec2_client=boto3.client(\"ec2\")"
   ]
  },
  {
   "cell_type": "code",
   "execution_count": 31,
   "metadata": {},
   "outputs": [],
   "source": [
    "x=ec2_client.describe_instances()"
   ]
  },
  {
   "cell_type": "code",
   "execution_count": 38,
   "metadata": {},
   "outputs": [],
   "source": [
    "data=x[\"Reservations\"]"
   ]
  },
  {
   "cell_type": "code",
   "execution_count": 41,
   "metadata": {},
   "outputs": [],
   "source": [
    "li=[]\n",
    "for instances in data:\n",
    "    instance=instances[\"Instances\"]\n",
    "    for ids in instance:\n",
    "        instance_id=ids[\"InstanceId\"]\n",
    "        li.append(instance_id)\n",
    "        \n",
    "    "
   ]
  },
  {
   "cell_type": "code",
   "execution_count": 44,
   "metadata": {},
   "outputs": [
    {
     "data": {
      "text/plain": [
       "{'TerminatingInstances': [{'CurrentState': {'Code': 32,\n",
       "    'Name': 'shutting-down'},\n",
       "   'InstanceId': 'i-0dac00d54a530afde',\n",
       "   'PreviousState': {'Code': 16, 'Name': 'running'}},\n",
       "  {'CurrentState': {'Code': 32, 'Name': 'shutting-down'},\n",
       "   'InstanceId': 'i-03582945214a13d1c',\n",
       "   'PreviousState': {'Code': 16, 'Name': 'running'}},\n",
       "  {'CurrentState': {'Code': 32, 'Name': 'shutting-down'},\n",
       "   'InstanceId': 'i-031b95b7b898b49fd',\n",
       "   'PreviousState': {'Code': 16, 'Name': 'running'}},\n",
       "  {'CurrentState': {'Code': 32, 'Name': 'shutting-down'},\n",
       "   'InstanceId': 'i-0e80d443843c4ba3a',\n",
       "   'PreviousState': {'Code': 16, 'Name': 'running'}},\n",
       "  {'CurrentState': {'Code': 32, 'Name': 'shutting-down'},\n",
       "   'InstanceId': 'i-04b25a7b1393a855c',\n",
       "   'PreviousState': {'Code': 16, 'Name': 'running'}},\n",
       "  {'CurrentState': {'Code': 32, 'Name': 'shutting-down'},\n",
       "   'InstanceId': 'i-012b9ff0785ddb229',\n",
       "   'PreviousState': {'Code': 16, 'Name': 'running'}},\n",
       "  {'CurrentState': {'Code': 32, 'Name': 'shutting-down'},\n",
       "   'InstanceId': 'i-08968da67f3cc609d',\n",
       "   'PreviousState': {'Code': 16, 'Name': 'running'}},\n",
       "  {'CurrentState': {'Code': 32, 'Name': 'shutting-down'},\n",
       "   'InstanceId': 'i-065e78d43416c8d86',\n",
       "   'PreviousState': {'Code': 16, 'Name': 'running'}},\n",
       "  {'CurrentState': {'Code': 32, 'Name': 'shutting-down'},\n",
       "   'InstanceId': 'i-016f908e87340dea4',\n",
       "   'PreviousState': {'Code': 16, 'Name': 'running'}},\n",
       "  {'CurrentState': {'Code': 32, 'Name': 'shutting-down'},\n",
       "   'InstanceId': 'i-00c17d8fa504a6750',\n",
       "   'PreviousState': {'Code': 16, 'Name': 'running'}},\n",
       "  {'CurrentState': {'Code': 32, 'Name': 'shutting-down'},\n",
       "   'InstanceId': 'i-0c88ad84b371264a8',\n",
       "   'PreviousState': {'Code': 16, 'Name': 'running'}},\n",
       "  {'CurrentState': {'Code': 32, 'Name': 'shutting-down'},\n",
       "   'InstanceId': 'i-05a42abc9a5ac37e8',\n",
       "   'PreviousState': {'Code': 16, 'Name': 'running'}},\n",
       "  {'CurrentState': {'Code': 32, 'Name': 'shutting-down'},\n",
       "   'InstanceId': 'i-0555eca1e99164c22',\n",
       "   'PreviousState': {'Code': 16, 'Name': 'running'}},\n",
       "  {'CurrentState': {'Code': 32, 'Name': 'shutting-down'},\n",
       "   'InstanceId': 'i-01a531866329aa20c',\n",
       "   'PreviousState': {'Code': 16, 'Name': 'running'}}],\n",
       " 'ResponseMetadata': {'RequestId': '5a18bd5d-0ee3-4760-a24b-7a1b65fe00e4',\n",
       "  'HTTPStatusCode': 200,\n",
       "  'HTTPHeaders': {'x-amzn-requestid': '5a18bd5d-0ee3-4760-a24b-7a1b65fe00e4',\n",
       "   'content-type': 'text/xml;charset=UTF-8',\n",
       "   'transfer-encoding': 'chunked',\n",
       "   'vary': 'accept-encoding',\n",
       "   'date': 'Thu, 29 Oct 2020 21:31:29 GMT',\n",
       "   'server': 'AmazonEC2'},\n",
       "  'RetryAttempts': 0}}"
      ]
     },
     "execution_count": 44,
     "metadata": {},
     "output_type": "execute_result"
    }
   ],
   "source": [
    "ec2_client.terminate_instances(InstanceIds=li)"
   ]
  },
  {
   "cell_type": "code",
   "execution_count": null,
   "metadata": {},
   "outputs": [],
   "source": []
  }
 ],
 "metadata": {
  "kernelspec": {
   "display_name": "Python 3",
   "language": "python",
   "name": "python3"
  },
  "language_info": {
   "codemirror_mode": {
    "name": "ipython",
    "version": 3
   },
   "file_extension": ".py",
   "mimetype": "text/x-python",
   "name": "python",
   "nbconvert_exporter": "python",
   "pygments_lexer": "ipython3",
   "version": "3.7.6"
  }
 },
 "nbformat": 4,
 "nbformat_minor": 4
}
