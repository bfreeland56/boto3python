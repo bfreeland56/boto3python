{
 "cells": [
  {
   "cell_type": "markdown",
   "metadata": {},
   "source": [
    "# how to create aws ebs snapshot from ebs volumen using boto3 python"
   ]
  },
  {
   "cell_type": "code",
   "execution_count": 3,
   "metadata": {},
   "outputs": [],
   "source": [
    "import boto3\n",
    "ec2_client=boto3.client(\"ec2\")"
   ]
  },
  {
   "cell_type": "code",
   "execution_count": 4,
   "metadata": {},
   "outputs": [
    {
     "data": {
      "text/plain": [
       "{'Description': 'snapshot from basevolume using python',\n",
       " 'Encrypted': False,\n",
       " 'OwnerId': '395561393953',\n",
       " 'Progress': '',\n",
       " 'SnapshotId': 'snap-03f0a437fd2dea30e',\n",
       " 'StartTime': datetime.datetime(2020, 12, 25, 18, 18, 35, tzinfo=tzutc()),\n",
       " 'State': 'pending',\n",
       " 'VolumeId': 'vol-0be0c6ac7328b1169',\n",
       " 'VolumeSize': 10,\n",
       " 'Tags': [],\n",
       " 'ResponseMetadata': {'RequestId': 'b1407112-5aa3-4f59-bee8-0e32220f5593',\n",
       "  'HTTPStatusCode': 200,\n",
       "  'HTTPHeaders': {'x-amzn-requestid': 'b1407112-5aa3-4f59-bee8-0e32220f5593',\n",
       "   'content-type': 'text/xml;charset=UTF-8',\n",
       "   'content-length': '593',\n",
       "   'date': 'Fri, 25 Dec 2020 18:18:35 GMT',\n",
       "   'server': 'AmazonEC2'},\n",
       "  'RetryAttempts': 0}}"
      ]
     },
     "execution_count": 4,
     "metadata": {},
     "output_type": "execute_result"
    }
   ],
   "source": [
    "ec2_client.create_snapshot( Description='snapshot from basevolume using python',\n",
    "      VolumeId='vol-0be0c6ac7328b1169')"
   ]
  },
  {
   "cell_type": "code",
   "execution_count": null,
   "metadata": {},
   "outputs": [],
   "source": []
  },
  {
   "cell_type": "code",
   "execution_count": null,
   "metadata": {},
   "outputs": [],
   "source": []
  }
 ],
 "metadata": {
  "kernelspec": {
   "display_name": "Python 3",
   "language": "python",
   "name": "python3"
  },
  "language_info": {
   "codemirror_mode": {
    "name": "ipython",
    "version": 3
   },
   "file_extension": ".py",
   "mimetype": "text/x-python",
   "name": "python",
   "nbconvert_exporter": "python",
   "pygments_lexer": "ipython3",
   "version": "3.7.6"
  }
 },
 "nbformat": 4,
 "nbformat_minor": 4
}
