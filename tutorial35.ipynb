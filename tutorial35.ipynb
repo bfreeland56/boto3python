{
 "cells": [
  {
   "cell_type": "markdown",
   "metadata": {},
   "source": [
    "# tutorial 35, how to describe key pairs for aws ec2 instance using bot3 python"
   ]
  },
  {
   "cell_type": "code",
   "execution_count": 1,
   "metadata": {},
   "outputs": [],
   "source": [
    "import boto3"
   ]
  },
  {
   "cell_type": "code",
   "execution_count": 2,
   "metadata": {},
   "outputs": [],
   "source": [
    "ec2_client=boto3.client(\"ec2\")"
   ]
  },
  {
   "cell_type": "code",
   "execution_count": 12,
   "metadata": {},
   "outputs": [
    {
     "data": {
      "text/plain": [
       "4"
      ]
     },
     "execution_count": 12,
     "metadata": {},
     "output_type": "execute_result"
    }
   ],
   "source": [
    "#get the count for available key pairs\n",
    "data=ec2_client.describe_key_pairs()\n",
    "len(data[\"KeyPairs\"])"
   ]
  },
  {
   "cell_type": "code",
   "execution_count": 13,
   "metadata": {},
   "outputs": [
    {
     "name": "stdout",
     "output_type": "stream",
     "text": [
      "key_pair_id is key-0321375c675506809,key_fingerprint is 9a:ff:5a:ea:5a:65:38:f4:1b:1a:1e:3c:aa:49:e3:73:ce:2f:ee:a8,key_name is key_sample1\n",
      "key_pair_id is key-054251e93345408d3,key_fingerprint is 24:c7:89:ec:a0:dc:10:38:d4:34:a0:8b:49:d2:e6:cb:f5:22:f5:60,key_name is key_sample2\n",
      "key_pair_id is key-08473fe7cb65f6e8a,key_fingerprint is 9d:f5:3e:13:35:3d:cd:a5:ef:2d:54:ab:97:cc:a1:a8:7a:73:b5:57,key_name is key_sample3\n",
      "key_pair_id is key-0325073ea4ccb9532,key_fingerprint is 0d:06:6e:29:79:b7:79:27:68:da:25:94:be:47:13:fb:9e:09:e5:b5,key_name is key_sample4\n"
     ]
    }
   ],
   "source": [
    "#get keyname,keypair-id and finger print from the response\n",
    "data1=data[\"KeyPairs\"]\n",
    "for key in data1:\n",
    "    print(f'key_pair_id is {key[\"KeyPairId\"]},key_fingerprint is {key[\"KeyFingerprint\"]},key_name is {key[\"KeyName\"]}')\n",
    "    "
   ]
  },
  {
   "cell_type": "code",
   "execution_count": null,
   "metadata": {},
   "outputs": [],
   "source": []
  }
 ],
 "metadata": {
  "kernelspec": {
   "display_name": "Python 3",
   "language": "python",
   "name": "python3"
  },
  "language_info": {
   "codemirror_mode": {
    "name": "ipython",
    "version": 3
   },
   "file_extension": ".py",
   "mimetype": "text/x-python",
   "name": "python",
   "nbconvert_exporter": "python",
   "pygments_lexer": "ipython3",
   "version": "3.7.6"
  }
 },
 "nbformat": 4,
 "nbformat_minor": 4
}
