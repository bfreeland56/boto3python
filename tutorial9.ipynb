{
 "cells": [
  {
   "cell_type": "markdown",
   "metadata": {},
   "source": [
    "# tutorial9 ,delete object"
   ]
  },
  {
   "cell_type": "code",
   "execution_count": 17,
   "metadata": {},
   "outputs": [],
   "source": [
    "import boto3"
   ]
  },
  {
   "cell_type": "code",
   "execution_count": 18,
   "metadata": {},
   "outputs": [],
   "source": [
    "s3_resource=boto3.client(\"s3\")"
   ]
  },
  {
   "cell_type": "code",
   "execution_count": 20,
   "metadata": {},
   "outputs": [
    {
     "data": {
      "text/plain": [
       "{'ResponseMetadata': {'RequestId': '0E035010CE3965DB',\n",
       "  'HostId': 'j2ovfynp0mdQXTh42c6c1wth+2AeQYMNB5d/kJB06ZI3GMmUf5UWy7CPxHpStXVQwSHsjQYTzos=',\n",
       "  'HTTPStatusCode': 204,\n",
       "  'HTTPHeaders': {'x-amz-id-2': 'j2ovfynp0mdQXTh42c6c1wth+2AeQYMNB5d/kJB06ZI3GMmUf5UWy7CPxHpStXVQwSHsjQYTzos=',\n",
       "   'x-amz-request-id': '0E035010CE3965DB',\n",
       "   'date': 'Thu, 30 Jul 2020 11:45:19 GMT',\n",
       "   'server': 'AmazonS3'},\n",
       "  'RetryAttempts': 0}}"
      ]
     },
     "execution_count": 20,
     "metadata": {},
     "output_type": "execute_result"
    }
   ],
   "source": [
    "#delete single object\n",
    "s3_resource.delete_object(Bucket='totaltechnology',\n",
    "      Key='uplaod2.png')"
   ]
  },
  {
   "cell_type": "code",
   "execution_count": 31,
   "metadata": {},
   "outputs": [],
   "source": [
    "#find all the objects from the bucket\n",
    "objects=s3_resource.list_objects(Bucket=\"totaltechnology\")[\"Contents\"]"
   ]
  },
  {
   "cell_type": "code",
   "execution_count": 32,
   "metadata": {},
   "outputs": [
    {
     "data": {
      "text/plain": [
       "5"
      ]
     },
     "execution_count": 32,
     "metadata": {},
     "output_type": "execute_result"
    }
   ],
   "source": [
    "len(objects)"
   ]
  },
  {
   "cell_type": "code",
   "execution_count": 35,
   "metadata": {},
   "outputs": [
    {
     "name": "stdout",
     "output_type": "stream",
     "text": [
      "{'ResponseMetadata': {'RequestId': '8B6827B7E25CA617', 'HostId': 'OjVqF+xnLedAAT3/dcqvRXQPSOHzahU+xMhlslDy568U4FCOW1ZU0pE609MOnhLDlIyxdC5nJj0=', 'HTTPStatusCode': 204, 'HTTPHeaders': {'x-amz-id-2': 'OjVqF+xnLedAAT3/dcqvRXQPSOHzahU+xMhlslDy568U4FCOW1ZU0pE609MOnhLDlIyxdC5nJj0=', 'x-amz-request-id': '8B6827B7E25CA617', 'date': 'Thu, 30 Jul 2020 11:53:38 GMT', 'server': 'AmazonS3'}, 'RetryAttempts': 0}}\n",
      "{'ResponseMetadata': {'RequestId': 'AEF6DDC558829468', 'HostId': 'Q8jVJL1g0iEdFTG4f9v4IDaw/tI/E1mubzjUX/nzYRpuBNO+UGItaDRoXFhJs5IBnbcIESn0TQs=', 'HTTPStatusCode': 204, 'HTTPHeaders': {'x-amz-id-2': 'Q8jVJL1g0iEdFTG4f9v4IDaw/tI/E1mubzjUX/nzYRpuBNO+UGItaDRoXFhJs5IBnbcIESn0TQs=', 'x-amz-request-id': 'AEF6DDC558829468', 'date': 'Thu, 30 Jul 2020 11:53:38 GMT', 'server': 'AmazonS3'}, 'RetryAttempts': 0}}\n",
      "{'ResponseMetadata': {'RequestId': 'FEB0ADEFE97E1786', 'HostId': 'qTaK9wkq9MHsV8NsApsC6flCpYS9fY3Wkxo9ZknuoG6wzvV3CiLq691ZqZEOLwf3M3xG6etqJCQ=', 'HTTPStatusCode': 204, 'HTTPHeaders': {'x-amz-id-2': 'qTaK9wkq9MHsV8NsApsC6flCpYS9fY3Wkxo9ZknuoG6wzvV3CiLq691ZqZEOLwf3M3xG6etqJCQ=', 'x-amz-request-id': 'FEB0ADEFE97E1786', 'date': 'Thu, 30 Jul 2020 11:53:38 GMT', 'server': 'AmazonS3'}, 'RetryAttempts': 0}}\n",
      "{'ResponseMetadata': {'RequestId': '930AC1B89571F6DE', 'HostId': 'QVPVlcflpWDjXEYol2WFbr4aH41j3/fYoTOOI+1svfhdt8jDJbzrqpBnM9BYQq1nEsruiY3fTtY=', 'HTTPStatusCode': 204, 'HTTPHeaders': {'x-amz-id-2': 'QVPVlcflpWDjXEYol2WFbr4aH41j3/fYoTOOI+1svfhdt8jDJbzrqpBnM9BYQq1nEsruiY3fTtY=', 'x-amz-request-id': '930AC1B89571F6DE', 'date': 'Thu, 30 Jul 2020 11:53:38 GMT', 'server': 'AmazonS3'}, 'RetryAttempts': 0}}\n",
      "{'ResponseMetadata': {'RequestId': '9F397BFFDD2CD69A', 'HostId': 'tRJXCRxxHXdifZeE69tMWpn87WHfV5vkrEi9oZq1KuCfxYELskZsq4Nzt5s0Y8zEfSJ3c72ZOZ0=', 'HTTPStatusCode': 204, 'HTTPHeaders': {'x-amz-id-2': 'tRJXCRxxHXdifZeE69tMWpn87WHfV5vkrEi9oZq1KuCfxYELskZsq4Nzt5s0Y8zEfSJ3c72ZOZ0=', 'x-amz-request-id': '9F397BFFDD2CD69A', 'date': 'Thu, 30 Jul 2020 11:53:38 GMT', 'server': 'AmazonS3'}, 'RetryAttempts': 0}}\n"
     ]
    }
   ],
   "source": [
    "#iteration\n",
    "for object in objects:\n",
    "    response=s3_resource.delete_object(Bucket='totaltechnology',\n",
    "      Key=object[\"Key\"])\n",
    "    print(response)\n",
    "    "
   ]
  },
  {
   "cell_type": "code",
   "execution_count": null,
   "metadata": {},
   "outputs": [],
   "source": []
  }
 ],
 "metadata": {
  "kernelspec": {
   "display_name": "Python 3",
   "language": "python",
   "name": "python3"
  },
  "language_info": {
   "codemirror_mode": {
    "name": "ipython",
    "version": 3
   },
   "file_extension": ".py",
   "mimetype": "text/x-python",
   "name": "python",
   "nbconvert_exporter": "python",
   "pygments_lexer": "ipython3",
   "version": "3.7.6"
  }
 },
 "nbformat": 4,
 "nbformat_minor": 4
}
