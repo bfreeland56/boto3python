{
 "cells": [
  {
   "cell_type": "markdown",
   "metadata": {},
   "source": [
    "# tutorial 15,how to create inbound rule for security group"
   ]
  },
  {
   "cell_type": "code",
   "execution_count": 32,
   "metadata": {},
   "outputs": [],
   "source": [
    "import boto3"
   ]
  },
  {
   "cell_type": "code",
   "execution_count": 33,
   "metadata": {},
   "outputs": [],
   "source": [
    "client=boto3.client(\"ec2\")"
   ]
  },
  {
   "cell_type": "code",
   "execution_count": 37,
   "metadata": {},
   "outputs": [
    {
     "data": {
      "text/plain": [
       "{'ResponseMetadata': {'RequestId': '98fc8cef-57b7-4efe-9219-e8afc9175de8',\n",
       "  'HTTPStatusCode': 200,\n",
       "  'HTTPHeaders': {'x-amzn-requestid': '98fc8cef-57b7-4efe-9219-e8afc9175de8',\n",
       "   'content-type': 'text/xml;charset=UTF-8',\n",
       "   'content-length': '259',\n",
       "   'date': 'Fri, 21 Aug 2020 05:54:25 GMT',\n",
       "   'server': 'AmazonEC2'},\n",
       "  'RetryAttempts': 0}}"
      ]
     },
     "execution_count": 37,
     "metadata": {},
     "output_type": "execute_result"
    }
   ],
   "source": [
    "client.authorize_security_group_ingress(\n",
    "      GroupId='sg-03b46a7d7bdacfc5a',\n",
    "      IpPermissions = [\n",
    "          {\n",
    "              'FromPort': 100,\n",
    "              'IpProtocol': 'tcp',\n",
    "              'IpRanges': [\n",
    "                  {\n",
    "                      'CidrIp': '0.0.0.0/0',\n",
    "                      'Description': 'tutorial_15_demo_1'\n",
    "                  },\n",
    "              ],\n",
    "             \n",
    "              'ToPort': 100,\n",
    "              \n",
    "          },\n",
    "      ],\n",
    "     \n",
    "  )"
   ]
  },
  {
   "cell_type": "code",
   "execution_count": null,
   "metadata": {},
   "outputs": [],
   "source": []
  },
  {
   "cell_type": "code",
   "execution_count": null,
   "metadata": {},
   "outputs": [],
   "source": []
  },
  {
   "cell_type": "code",
   "execution_count": null,
   "metadata": {},
   "outputs": [],
   "source": []
  }
 ],
 "metadata": {
  "kernelspec": {
   "display_name": "Python 3",
   "language": "python",
   "name": "python3"
  },
  "language_info": {
   "codemirror_mode": {
    "name": "ipython",
    "version": 3
   },
   "file_extension": ".py",
   "mimetype": "text/x-python",
   "name": "python",
   "nbconvert_exporter": "python",
   "pygments_lexer": "ipython3",
   "version": "3.7.6"
  }
 },
 "nbformat": 4,
 "nbformat_minor": 4
}
