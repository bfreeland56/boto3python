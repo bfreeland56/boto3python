{
 "cells": [
  {
   "cell_type": "markdown",
   "metadata": {},
   "source": [
    "# tutorial 17,how to remove inbound rule from aws security group"
   ]
  },
  {
   "cell_type": "code",
   "execution_count": 1,
   "metadata": {},
   "outputs": [],
   "source": [
    "import boto3"
   ]
  },
  {
   "cell_type": "code",
   "execution_count": 2,
   "metadata": {},
   "outputs": [],
   "source": [
    "client=boto3.client(\"ec2\")"
   ]
  },
  {
   "cell_type": "code",
   "execution_count": 7,
   "metadata": {},
   "outputs": [
    {
     "data": {
      "text/plain": [
       "{'ResponseMetadata': {'RequestId': 'ea3e2a9b-08c5-40fb-9a9e-cc08a814d758',\n",
       "  'HTTPStatusCode': 200,\n",
       "  'HTTPHeaders': {'x-amzn-requestid': 'ea3e2a9b-08c5-40fb-9a9e-cc08a814d758',\n",
       "   'content-type': 'text/xml;charset=UTF-8',\n",
       "   'content-length': '253',\n",
       "   'date': 'Fri, 21 Aug 2020 10:30:07 GMT',\n",
       "   'server': 'AmazonEC2'},\n",
       "  'RetryAttempts': 0}}"
      ]
     },
     "execution_count": 7,
     "metadata": {},
     "output_type": "execute_result"
    }
   ],
   "source": [
    "client.revoke_security_group_ingress(\n",
    "      GroupId='sg-03b46a7d7bdacfc5a',\n",
    "      IpPermissions = [\n",
    "          {\n",
    "              'FromPort': 100,\n",
    "              'IpProtocol': 'tcp',\n",
    "              'IpRanges': [\n",
    "                  {\n",
    "                      'CidrIp': '0.0.0.0/0',\n",
    "                      'Description': 'tutorial_16'\n",
    "                  },\n",
    "              ],\n",
    "              \n",
    "              \n",
    "              'ToPort': 100,\n",
    "              \n",
    "          },\n",
    "      ],\n",
    "      \n",
    "  )"
   ]
  },
  {
   "cell_type": "code",
   "execution_count": null,
   "metadata": {},
   "outputs": [],
   "source": []
  }
 ],
 "metadata": {
  "kernelspec": {
   "display_name": "Python 3",
   "language": "python",
   "name": "python3"
  },
  "language_info": {
   "codemirror_mode": {
    "name": "ipython",
    "version": 3
   },
   "file_extension": ".py",
   "mimetype": "text/x-python",
   "name": "python",
   "nbconvert_exporter": "python",
   "pygments_lexer": "ipython3",
   "version": "3.7.6"
  }
 },
 "nbformat": 4,
 "nbformat_minor": 4
}
