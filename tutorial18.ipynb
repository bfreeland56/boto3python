{
 "cells": [
  {
   "cell_type": "markdown",
   "metadata": {},
   "source": [
    "# tutorial 18,how to create outbound rule for aws security group"
   ]
  },
  {
   "cell_type": "code",
   "execution_count": 1,
   "metadata": {},
   "outputs": [],
   "source": [
    "import boto3"
   ]
  },
  {
   "cell_type": "code",
   "execution_count": 2,
   "metadata": {},
   "outputs": [],
   "source": [
    "client=boto3.client(\"ec2\")"
   ]
  },
  {
   "cell_type": "code",
   "execution_count": 10,
   "metadata": {},
   "outputs": [
    {
     "data": {
      "text/plain": [
       "{'ResponseMetadata': {'RequestId': 'fbe6746f-2919-46be-b8f7-35564b09fc3e',\n",
       "  'HTTPStatusCode': 200,\n",
       "  'HTTPHeaders': {'x-amzn-requestid': 'fbe6746f-2919-46be-b8f7-35564b09fc3e',\n",
       "   'content-type': 'text/xml;charset=UTF-8',\n",
       "   'content-length': '257',\n",
       "   'date': 'Fri, 21 Aug 2020 11:36:49 GMT',\n",
       "   'server': 'AmazonEC2'},\n",
       "  'RetryAttempts': 0}}"
      ]
     },
     "execution_count": 10,
     "metadata": {},
     "output_type": "execute_result"
    }
   ],
   "source": [
    "client.authorize_security_group_egress(\n",
    "      GroupId='sg-03b46a7d7bdacfc5a',\n",
    "      IpPermissions = [\n",
    "          {\n",
    "              'FromPort': 80,\n",
    "              'IpProtocol': 'tcp',\n",
    "              'IpRanges': [\n",
    "                  {\n",
    "                      'CidrIp': '0.0.0.0/0',\n",
    "                      'Description': 'tutorial_18'\n",
    "                  },\n",
    "              ],\n",
    "              \n",
    "              'ToPort': 80,\n",
    "              \n",
    "          },\n",
    "      ],\n",
    "     \n",
    "  )"
   ]
  },
  {
   "cell_type": "code",
   "execution_count": null,
   "metadata": {},
   "outputs": [],
   "source": []
  },
  {
   "cell_type": "code",
   "execution_count": null,
   "metadata": {},
   "outputs": [],
   "source": []
  }
 ],
 "metadata": {
  "kernelspec": {
   "display_name": "Python 3",
   "language": "python",
   "name": "python3"
  },
  "language_info": {
   "codemirror_mode": {
    "name": "ipython",
    "version": 3
   },
   "file_extension": ".py",
   "mimetype": "text/x-python",
   "name": "python",
   "nbconvert_exporter": "python",
   "pygments_lexer": "ipython3",
   "version": "3.7.6"
  }
 },
 "nbformat": 4,
 "nbformat_minor": 4
}
