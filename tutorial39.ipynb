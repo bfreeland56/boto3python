{
 "cells": [
  {
   "cell_type": "markdown",
   "metadata": {},
   "source": [
    "# tutorial 39,how to attach aws ebs volume to aws ec2 instance using boto3 python"
   ]
  },
  {
   "cell_type": "code",
   "execution_count": 11,
   "metadata": {},
   "outputs": [],
   "source": [
    "import boto3\n",
    "ec2_client=boto3.client(\"ec2\")\n"
   ]
  },
  {
   "cell_type": "code",
   "execution_count": 20,
   "metadata": {},
   "outputs": [],
   "source": [
    "x=ec2_client.create_volume(\n",
    "      AvailabilityZone='us-east-2c',\n",
    "      Encrypted=True,\n",
    "      Size=10,\n",
    "      VolumeType='gp2',\n",
    "      TagSpecifications=[\n",
    "          {\n",
    "              'ResourceType': 'volume',\n",
    "              'Tags': [\n",
    "                  {\n",
    "                      'Key': 'Name',\n",
    "                      'Value': 'Tutorial-39'\n",
    "                  },\n",
    "              ]\n",
    "          },\n",
    "      ],)"
   ]
  },
  {
   "cell_type": "code",
   "execution_count": 22,
   "metadata": {},
   "outputs": [],
   "source": [
    "attach_response=ec2_client.attach_volume(Device='/dev/xvdb',\n",
    "      InstanceId='i-098b9e59250152516',\n",
    "      VolumeId='vol-012d83cb863e3d3ab'\n",
    "     )"
   ]
  },
  {
   "cell_type": "code",
   "execution_count": null,
   "metadata": {},
   "outputs": [],
   "source": []
  }
 ],
 "metadata": {
  "kernelspec": {
   "display_name": "Python 3",
   "language": "python",
   "name": "python3"
  },
  "language_info": {
   "codemirror_mode": {
    "name": "ipython",
    "version": 3
   },
   "file_extension": ".py",
   "mimetype": "text/x-python",
   "name": "python",
   "nbconvert_exporter": "python",
   "pygments_lexer": "ipython3",
   "version": "3.7.6"
  }
 },
 "nbformat": 4,
 "nbformat_minor": 4
}
