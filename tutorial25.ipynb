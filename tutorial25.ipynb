{
 "cells": [
  {
   "cell_type": "markdown",
   "metadata": {},
   "source": [
    "# tutorial 25,aws ec2 admistration using boto3 from python"
   ]
  },
  {
   "cell_type": "code",
   "execution_count": 28,
   "metadata": {},
   "outputs": [],
   "source": [
    "import boto3\n",
    "ec2_client=boto3.client(\"ec2\")"
   ]
  },
  {
   "cell_type": "code",
   "execution_count": 35,
   "metadata": {},
   "outputs": [
    {
     "data": {
      "text/plain": [
       "{'Reservations': [{'Groups': [],\n",
       "   'Instances': [{'AmiLaunchIndex': 0,\n",
       "     'ImageId': 'ami-03657b56516ab7912',\n",
       "     'InstanceId': 'i-0b4e934eb98f87cc3',\n",
       "     'InstanceType': 't2.micro',\n",
       "     'KeyName': 'tutorial24',\n",
       "     'LaunchTime': datetime.datetime(2020, 10, 19, 12, 40, 30, tzinfo=tzutc()),\n",
       "     'Monitoring': {'State': 'disabled'},\n",
       "     'Placement': {'AvailabilityZone': 'us-east-2c',\n",
       "      'GroupName': '',\n",
       "      'Tenancy': 'default'},\n",
       "     'PrivateDnsName': 'ip-172-31-34-114.us-east-2.compute.internal',\n",
       "     'PrivateIpAddress': '172.31.34.114',\n",
       "     'ProductCodes': [],\n",
       "     'PublicDnsName': 'ec2-3-138-86-49.us-east-2.compute.amazonaws.com',\n",
       "     'PublicIpAddress': '3.138.86.49',\n",
       "     'State': {'Code': 16, 'Name': 'running'},\n",
       "     'StateTransitionReason': '',\n",
       "     'SubnetId': 'subnet-0dc6ae41',\n",
       "     'VpcId': 'vpc-06f85a6d',\n",
       "     'Architecture': 'x86_64',\n",
       "     'BlockDeviceMappings': [{'DeviceName': '/dev/xvda',\n",
       "       'Ebs': {'AttachTime': datetime.datetime(2020, 10, 19, 12, 28, 14, tzinfo=tzutc()),\n",
       "        'DeleteOnTermination': True,\n",
       "        'Status': 'attached',\n",
       "        'VolumeId': 'vol-055b18de3f5546eb2'}}],\n",
       "     'ClientToken': '156d90ef-fb82-4266-ad64-59728d7562d7',\n",
       "     'EbsOptimized': False,\n",
       "     'EnaSupport': True,\n",
       "     'Hypervisor': 'xen',\n",
       "     'IamInstanceProfile': {'Arn': 'arn:aws:iam::395561393953:instance-profile/ssm-role-ec2',\n",
       "      'Id': 'AIPAVYGKL34Q46IYKK5KY'},\n",
       "     'NetworkInterfaces': [{'Association': {'IpOwnerId': 'amazon',\n",
       "        'PublicDnsName': 'ec2-3-138-86-49.us-east-2.compute.amazonaws.com',\n",
       "        'PublicIp': '3.138.86.49'},\n",
       "       'Attachment': {'AttachTime': datetime.datetime(2020, 10, 19, 12, 28, 13, tzinfo=tzutc()),\n",
       "        'AttachmentId': 'eni-attach-0625e8c7f3905e89c',\n",
       "        'DeleteOnTermination': True,\n",
       "        'DeviceIndex': 0,\n",
       "        'Status': 'attached'},\n",
       "       'Description': '',\n",
       "       'Groups': [{'GroupName': 'tutorial24-sg',\n",
       "         'GroupId': 'sg-0f1132f32dada677a'}],\n",
       "       'Ipv6Addresses': [],\n",
       "       'MacAddress': '0a:a2:a1:cf:e3:08',\n",
       "       'NetworkInterfaceId': 'eni-0c51e681676e6ea6c',\n",
       "       'OwnerId': '395561393953',\n",
       "       'PrivateDnsName': 'ip-172-31-34-114.us-east-2.compute.internal',\n",
       "       'PrivateIpAddress': '172.31.34.114',\n",
       "       'PrivateIpAddresses': [{'Association': {'IpOwnerId': 'amazon',\n",
       "          'PublicDnsName': 'ec2-3-138-86-49.us-east-2.compute.amazonaws.com',\n",
       "          'PublicIp': '3.138.86.49'},\n",
       "         'Primary': True,\n",
       "         'PrivateDnsName': 'ip-172-31-34-114.us-east-2.compute.internal',\n",
       "         'PrivateIpAddress': '172.31.34.114'}],\n",
       "       'SourceDestCheck': True,\n",
       "       'Status': 'in-use',\n",
       "       'SubnetId': 'subnet-0dc6ae41',\n",
       "       'VpcId': 'vpc-06f85a6d',\n",
       "       'InterfaceType': 'interface'}],\n",
       "     'RootDeviceName': '/dev/xvda',\n",
       "     'RootDeviceType': 'ebs',\n",
       "     'SecurityGroups': [{'GroupName': 'tutorial24-sg',\n",
       "       'GroupId': 'sg-0f1132f32dada677a'}],\n",
       "     'SourceDestCheck': True,\n",
       "     'VirtualizationType': 'hvm',\n",
       "     'CpuOptions': {'CoreCount': 1, 'ThreadsPerCore': 1},\n",
       "     'CapacityReservationSpecification': {'CapacityReservationPreference': 'open'},\n",
       "     'HibernationOptions': {'Configured': False},\n",
       "     'MetadataOptions': {'State': 'applied',\n",
       "      'HttpTokens': 'optional',\n",
       "      'HttpPutResponseHopLimit': 1,\n",
       "      'HttpEndpoint': 'enabled'}}],\n",
       "   'OwnerId': '395561393953',\n",
       "   'ReservationId': 'r-00060caee3b327afe'},\n",
       "  {'Groups': [],\n",
       "   'Instances': [{'AmiLaunchIndex': 0,\n",
       "     'ImageId': 'ami-03657b56516ab7912',\n",
       "     'InstanceId': 'i-025bab55dd7dd5512',\n",
       "     'InstanceType': 't2.micro',\n",
       "     'KeyName': 'tutorial24',\n",
       "     'LaunchTime': datetime.datetime(2020, 10, 19, 12, 15, 49, tzinfo=tzutc()),\n",
       "     'Monitoring': {'State': 'disabled'},\n",
       "     'Placement': {'AvailabilityZone': 'us-east-2b',\n",
       "      'GroupName': '',\n",
       "      'Tenancy': 'default'},\n",
       "     'PrivateDnsName': '',\n",
       "     'ProductCodes': [],\n",
       "     'PublicDnsName': '',\n",
       "     'State': {'Code': 48, 'Name': 'terminated'},\n",
       "     'StateTransitionReason': 'User initiated (2020-10-19 12:18:58 GMT)',\n",
       "     'Architecture': 'x86_64',\n",
       "     'BlockDeviceMappings': [],\n",
       "     'ClientToken': 'e923ca87-eb96-4f99-84e6-d4c3e6680248',\n",
       "     'EbsOptimized': False,\n",
       "     'EnaSupport': True,\n",
       "     'Hypervisor': 'xen',\n",
       "     'NetworkInterfaces': [],\n",
       "     'RootDeviceName': '/dev/xvda',\n",
       "     'RootDeviceType': 'ebs',\n",
       "     'SecurityGroups': [],\n",
       "     'StateReason': {'Code': 'Client.UserInitiatedShutdown',\n",
       "      'Message': 'Client.UserInitiatedShutdown: User initiated shutdown'},\n",
       "     'VirtualizationType': 'hvm',\n",
       "     'CpuOptions': {'CoreCount': 1, 'ThreadsPerCore': 1},\n",
       "     'CapacityReservationSpecification': {'CapacityReservationPreference': 'open'},\n",
       "     'HibernationOptions': {'Configured': False},\n",
       "     'MetadataOptions': {'State': 'pending',\n",
       "      'HttpTokens': 'optional',\n",
       "      'HttpPutResponseHopLimit': 1,\n",
       "      'HttpEndpoint': 'enabled'}}],\n",
       "   'OwnerId': '395561393953',\n",
       "   'ReservationId': 'r-0de9e61197f473d9a'}],\n",
       " 'ResponseMetadata': {'RequestId': 'ada4e058-f88f-4772-81e2-4c1ee26b4256',\n",
       "  'HTTPStatusCode': 200,\n",
       "  'HTTPHeaders': {'x-amzn-requestid': 'ada4e058-f88f-4772-81e2-4c1ee26b4256',\n",
       "   'content-type': 'text/xml;charset=UTF-8',\n",
       "   'transfer-encoding': 'chunked',\n",
       "   'vary': 'accept-encoding',\n",
       "   'date': 'Mon, 19 Oct 2020 12:43:32 GMT',\n",
       "   'server': 'AmazonEC2'},\n",
       "  'RetryAttempts': 0}}"
      ]
     },
     "execution_count": 35,
     "metadata": {},
     "output_type": "execute_result"
    }
   ],
   "source": [
    "#describe instances\n",
    "ec2_client.describe_instances()"
   ]
  },
  {
   "cell_type": "code",
   "execution_count": 31,
   "metadata": {},
   "outputs": [
    {
     "data": {
      "text/plain": [
       "{'StoppingInstances': [{'CurrentState': {'Code': 64, 'Name': 'stopping'},\n",
       "   'InstanceId': 'i-0b4e934eb98f87cc3',\n",
       "   'PreviousState': {'Code': 16, 'Name': 'running'}}],\n",
       " 'ResponseMetadata': {'RequestId': 'ee22ad0e-3045-40cb-a39f-6c21bb4f4cce',\n",
       "  'HTTPStatusCode': 200,\n",
       "  'HTTPHeaders': {'x-amzn-requestid': 'ee22ad0e-3045-40cb-a39f-6c21bb4f4cce',\n",
       "   'content-type': 'text/xml;charset=UTF-8',\n",
       "   'content-length': '579',\n",
       "   'date': 'Mon, 19 Oct 2020 12:37:53 GMT',\n",
       "   'server': 'AmazonEC2'},\n",
       "  'RetryAttempts': 0}}"
      ]
     },
     "execution_count": 31,
     "metadata": {},
     "output_type": "execute_result"
    }
   ],
   "source": [
    "# how to stop the instances\n",
    "ec2_client.stop_instances(InstanceIds=[\n",
    "          'i-0b4e934eb98f87cc3'\n",
    "      ])"
   ]
  },
  {
   "cell_type": "code",
   "execution_count": 32,
   "metadata": {},
   "outputs": [
    {
     "data": {
      "text/plain": [
       "{'StartingInstances': [{'CurrentState': {'Code': 0, 'Name': 'pending'},\n",
       "   'InstanceId': 'i-0b4e934eb98f87cc3',\n",
       "   'PreviousState': {'Code': 80, 'Name': 'stopped'}}],\n",
       " 'ResponseMetadata': {'RequestId': 'e008c444-224d-49c6-bcd1-02ae4c5ae0cf',\n",
       "  'HTTPStatusCode': 200,\n",
       "  'HTTPHeaders': {'x-amzn-requestid': 'e008c444-224d-49c6-bcd1-02ae4c5ae0cf',\n",
       "   'content-type': 'text/xml;charset=UTF-8',\n",
       "   'content-length': '579',\n",
       "   'date': 'Mon, 19 Oct 2020 12:40:30 GMT',\n",
       "   'server': 'AmazonEC2'},\n",
       "  'RetryAttempts': 0}}"
      ]
     },
     "execution_count": 32,
     "metadata": {},
     "output_type": "execute_result"
    }
   ],
   "source": [
    "# how to start the instances\n",
    "ec2_client.start_instances(InstanceIds=[\n",
    "          'i-0b4e934eb98f87cc3'\n",
    "      ])"
   ]
  },
  {
   "cell_type": "code",
   "execution_count": 34,
   "metadata": {},
   "outputs": [
    {
     "data": {
      "text/plain": [
       "{'ResponseMetadata': {'RequestId': '31c00bca-9aa6-4fcc-bfdf-e1c9cd065958',\n",
       "  'HTTPStatusCode': 200,\n",
       "  'HTTPHeaders': {'x-amzn-requestid': '31c00bca-9aa6-4fcc-bfdf-e1c9cd065958',\n",
       "   'content-type': 'text/xml;charset=UTF-8',\n",
       "   'content-length': '231',\n",
       "   'date': 'Mon, 19 Oct 2020 12:43:13 GMT',\n",
       "   'server': 'AmazonEC2'},\n",
       "  'RetryAttempts': 0}}"
      ]
     },
     "execution_count": 34,
     "metadata": {},
     "output_type": "execute_result"
    }
   ],
   "source": [
    "# how to reboot the instances\n",
    "ec2_client.reboot_instances(InstanceIds=[\n",
    "          'i-0b4e934eb98f87cc3'\n",
    "      ])"
   ]
  },
  {
   "cell_type": "code",
   "execution_count": 36,
   "metadata": {},
   "outputs": [
    {
     "data": {
      "text/plain": [
       "{'TerminatingInstances': [{'CurrentState': {'Code': 32,\n",
       "    'Name': 'shutting-down'},\n",
       "   'InstanceId': 'i-0b4e934eb98f87cc3',\n",
       "   'PreviousState': {'Code': 16, 'Name': 'running'}}],\n",
       " 'ResponseMetadata': {'RequestId': 'fe7eeb97-392e-4474-837a-ab8e0c359c82',\n",
       "  'HTTPStatusCode': 200,\n",
       "  'HTTPHeaders': {'x-amzn-requestid': 'fe7eeb97-392e-4474-837a-ab8e0c359c82',\n",
       "   'content-type': 'text/xml;charset=UTF-8',\n",
       "   'transfer-encoding': 'chunked',\n",
       "   'vary': 'accept-encoding',\n",
       "   'date': 'Mon, 19 Oct 2020 12:44:54 GMT',\n",
       "   'server': 'AmazonEC2'},\n",
       "  'RetryAttempts': 0}}"
      ]
     },
     "execution_count": 36,
     "metadata": {},
     "output_type": "execute_result"
    }
   ],
   "source": [
    "# how to terminate the instances\n",
    "ec2_client.terminate_instances(InstanceIds=[\n",
    "          'i-0b4e934eb98f87cc3'\n",
    "      ])"
   ]
  },
  {
   "cell_type": "code",
   "execution_count": null,
   "metadata": {},
   "outputs": [],
   "source": []
  }
 ],
 "metadata": {
  "kernelspec": {
   "display_name": "Python 3",
   "language": "python",
   "name": "python3"
  },
  "language_info": {
   "codemirror_mode": {
    "name": "ipython",
    "version": 3
   },
   "file_extension": ".py",
   "mimetype": "text/x-python",
   "name": "python",
   "nbconvert_exporter": "python",
   "pygments_lexer": "ipython3",
   "version": "3.7.6"
  }
 },
 "nbformat": 4,
 "nbformat_minor": 4
}
