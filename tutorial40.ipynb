{
 "cells": [
  {
   "cell_type": "markdown",
   "metadata": {},
   "source": [
    "# tutorial 40,how to detach aws. ebs volume from ec2 instance using boto3 python"
   ]
  },
  {
   "cell_type": "code",
   "execution_count": 12,
   "metadata": {},
   "outputs": [],
   "source": [
    "import boto3\n"
   ]
  },
  {
   "cell_type": "code",
   "execution_count": 13,
   "metadata": {},
   "outputs": [],
   "source": [
    "ec2=boto3.client(\"ec2\")"
   ]
  },
  {
   "cell_type": "code",
   "execution_count": 16,
   "metadata": {},
   "outputs": [
    {
     "data": {
      "text/plain": [
       "{'AttachTime': datetime.datetime(2020, 11, 28, 5, 47, 9, tzinfo=tzutc()),\n",
       " 'Device': '/dev/xvdb',\n",
       " 'InstanceId': 'i-098b9e59250152516',\n",
       " 'State': 'detaching',\n",
       " 'VolumeId': 'vol-012d83cb863e3d3ab',\n",
       " 'ResponseMetadata': {'RequestId': '0790e348-2e93-4954-b86c-3ed4c7fdd75b',\n",
       "  'HTTPStatusCode': 200,\n",
       "  'HTTPHeaders': {'x-amzn-requestid': '0790e348-2e93-4954-b86c-3ed4c7fdd75b',\n",
       "   'content-type': 'text/xml;charset=UTF-8',\n",
       "   'content-length': '411',\n",
       "   'date': 'Sat, 28 Nov 2020 06:58:32 GMT',\n",
       "   'server': 'AmazonEC2'},\n",
       "  'RetryAttempts': 0}}"
      ]
     },
     "execution_count": 16,
     "metadata": {},
     "output_type": "execute_result"
    }
   ],
   "source": [
    "ec2.detach_volume(\n",
    "      InstanceId='i-098b9e59250152516',\n",
    "      VolumeId='vol-012d83cb863e3d3ab',\n",
    "    )"
   ]
  },
  {
   "cell_type": "code",
   "execution_count": null,
   "metadata": {},
   "outputs": [],
   "source": []
  }
 ],
 "metadata": {
  "kernelspec": {
   "display_name": "Python 3",
   "language": "python",
   "name": "python3"
  },
  "language_info": {
   "codemirror_mode": {
    "name": "ipython",
    "version": 3
   },
   "file_extension": ".py",
   "mimetype": "text/x-python",
   "name": "python",
   "nbconvert_exporter": "python",
   "pygments_lexer": "ipython3",
   "version": "3.7.6"
  }
 },
 "nbformat": 4,
 "nbformat_minor": 4
}
