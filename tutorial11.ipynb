{
 "cells": [
  {
   "cell_type": "markdown",
   "metadata": {},
   "source": [
    "# tutorial 11 how to create vpc using python \n"
   ]
  },
  {
   "cell_type": "code",
   "execution_count": 1,
   "metadata": {},
   "outputs": [],
   "source": [
    "import boto3"
   ]
  },
  {
   "cell_type": "code",
   "execution_count": 2,
   "metadata": {},
   "outputs": [],
   "source": [
    "client=boto3.client(\"ec2\")"
   ]
  },
  {
   "cell_type": "code",
   "execution_count": 4,
   "metadata": {},
   "outputs": [
    {
     "data": {
      "text/plain": [
       "{'Vpc': {'CidrBlock': '10.0.0.0/16',\n",
       "  'DhcpOptionsId': 'dopt-400d892b',\n",
       "  'State': 'pending',\n",
       "  'VpcId': 'vpc-0726e99e7bc27be14',\n",
       "  'OwnerId': '395561393953',\n",
       "  'InstanceTenancy': 'default',\n",
       "  'Ipv6CidrBlockAssociationSet': [],\n",
       "  'CidrBlockAssociationSet': [{'AssociationId': 'vpc-cidr-assoc-0b116f25341f963c4',\n",
       "    'CidrBlock': '10.0.0.0/16',\n",
       "    'CidrBlockState': {'State': 'associated'}}],\n",
       "  'IsDefault': False},\n",
       " 'ResponseMetadata': {'RequestId': 'bb88a825-6eed-4a42-8116-b0a345b1b2ca',\n",
       "  'HTTPStatusCode': 200,\n",
       "  'HTTPHeaders': {'x-amzn-requestid': 'bb88a825-6eed-4a42-8116-b0a345b1b2ca',\n",
       "   'content-type': 'text/xml;charset=UTF-8',\n",
       "   'content-length': '905',\n",
       "   'date': 'Wed, 19 Aug 2020 11:11:38 GMT',\n",
       "   'server': 'AmazonEC2'},\n",
       "  'RetryAttempts': 0}}"
      ]
     },
     "execution_count": 4,
     "metadata": {},
     "output_type": "execute_result"
    }
   ],
   "source": [
    "client.create_vpc(CidrBlock='10.0.0.0/16')"
   ]
  },
  {
   "cell_type": "code",
   "execution_count": null,
   "metadata": {},
   "outputs": [],
   "source": []
  },
  {
   "cell_type": "code",
   "execution_count": null,
   "metadata": {},
   "outputs": [],
   "source": []
  }
 ],
 "metadata": {
  "kernelspec": {
   "display_name": "Python 3",
   "language": "python",
   "name": "python3"
  },
  "language_info": {
   "codemirror_mode": {
    "name": "ipython",
    "version": 3
   },
   "file_extension": ".py",
   "mimetype": "text/x-python",
   "name": "python",
   "nbconvert_exporter": "python",
   "pygments_lexer": "ipython3",
   "version": "3.7.6"
  }
 },
 "nbformat": 4,
 "nbformat_minor": 4
}
